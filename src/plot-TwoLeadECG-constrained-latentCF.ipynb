{
 "cells": [
  {
   "cell_type": "markdown",
   "id": "a0f239ef",
   "metadata": {},
   "source": [
    "### Uncomment the following blocks in order to install dependencies in Google Colab"
   ]
  },
  {
   "cell_type": "code",
   "execution_count": null,
   "id": "a307b064",
   "metadata": {},
   "outputs": [],
   "source": [
    "# ! git clone https://github.com/zhendong3wang/learning-time-series-counterfactuals.git "
   ]
  },
  {
   "cell_type": "code",
   "execution_count": null,
   "id": "98202777",
   "metadata": {},
   "outputs": [],
   "source": [
    "# ! cd learning-time-series-counterfactuals && git checkout ds_extension"
   ]
  },
  {
   "cell_type": "code",
   "execution_count": null,
   "id": "cd622a74",
   "metadata": {},
   "outputs": [],
   "source": [
    "# ! pip install -r learning-time-series-counterfactuals/requirements.txt"
   ]
  },
  {
   "cell_type": "code",
   "execution_count": null,
   "id": "ad8718d5",
   "metadata": {},
   "outputs": [],
   "source": [
    "# import sys\n",
    "# sys.path.append('./learning-time-series-counterfactuals/src')\n",
    "# sys.path.append('./learning-time-series-counterfactuals/LIMESegment/Utils/')"
   ]
  },
  {
   "cell_type": "code",
   "execution_count": null,
   "id": "772e4dd0",
   "metadata": {},
   "outputs": [],
   "source": []
  },
  {
   "cell_type": "markdown",
   "id": "08a756fb",
   "metadata": {},
   "source": [
    "### Actual codes start"
   ]
  },
  {
   "cell_type": "code",
   "execution_count": 1,
   "id": "7845e90e",
   "metadata": {},
   "outputs": [
    {
     "name": "stderr",
     "output_type": "stream",
     "text": [
      "2022-07-03 17:39:31.152648: I tensorflow/stream_executor/platform/default/dso_loader.cc:49] Successfully opened dynamic library libcudart.so.11.0\n"
     ]
    }
   ],
   "source": [
    "import logging\n",
    "import os\n",
    "import warnings\n",
    "from argparse import ArgumentParser\n",
    "\n",
    "from tensorflow import keras\n",
    "import matplotlib.pyplot as plt\n",
    "import numpy as np\n",
    "import pandas as pd\n",
    "import tensorflow as tf\n",
    "from scipy.spatial import distance_matrix\n",
    "from sklearn.metrics import balanced_accuracy_score, confusion_matrix\n",
    "from sklearn.model_selection import train_test_split\n",
    "from sklearn.neighbors import KDTree, KNeighborsClassifier\n",
    "from sklearn.preprocessing import MinMaxScaler\n",
    "from wildboar.datasets import load_dataset\n",
    "from wildboar.ensemble import ShapeletForestClassifier\n",
    "from wildboar.explain.counterfactual import counterfactuals\n",
    "\n",
    "from _composite import ModifiedLatentCF\n",
    "from _vanilla import LatentCF\n",
    "from help_functions import (ResultWriter, conditional_pad, evaluate,\n",
    "                            find_best_alpha, find_best_lr, plot_graphs,\n",
    "                            reset_seeds, time_series_normalize,\n",
    "                            time_series_revert, upsample_minority,\n",
    "                            validity_score)\n",
    "from keras_models import *"
   ]
  },
  {
   "cell_type": "code",
   "execution_count": 2,
   "id": "ef330b1e",
   "metadata": {},
   "outputs": [
    {
     "name": "stderr",
     "output_type": "stream",
     "text": [
      "2022-07-03 17:39:33.785719: I tensorflow/compiler/jit/xla_cpu_device.cc:41] Not creating XLA devices, tf_xla_enable_xla_devices not set\n",
      "2022-07-03 17:39:33.785843: I tensorflow/stream_executor/platform/default/dso_loader.cc:49] Successfully opened dynamic library libcuda.so.1\n",
      "2022-07-03 17:39:33.785996: I tensorflow/stream_executor/cuda/cuda_gpu_executor.cc:941] successful NUMA node read from SysFS had negative value (-1), but there must be at least one NUMA node, so returning NUMA node zero\n",
      "2022-07-03 17:39:33.786271: I tensorflow/core/common_runtime/gpu/gpu_device.cc:1720] Found device 0 with properties: \n",
      "pciBusID: 0000:42:00.0 name: NVIDIA GeForce RTX 2080 computeCapability: 7.5\n",
      "coreClock: 1.71GHz coreCount: 46 deviceMemorySize: 7.79GiB deviceMemoryBandwidth: 417.23GiB/s\n",
      "2022-07-03 17:39:33.786284: I tensorflow/stream_executor/platform/default/dso_loader.cc:49] Successfully opened dynamic library libcudart.so.11.0\n",
      "2022-07-03 17:39:33.787686: I tensorflow/stream_executor/platform/default/dso_loader.cc:49] Successfully opened dynamic library libcublas.so.11\n",
      "2022-07-03 17:39:33.787738: I tensorflow/stream_executor/platform/default/dso_loader.cc:49] Successfully opened dynamic library libcublasLt.so.11\n",
      "2022-07-03 17:39:33.788332: I tensorflow/stream_executor/platform/default/dso_loader.cc:49] Successfully opened dynamic library libcufft.so.10\n",
      "2022-07-03 17:39:33.788480: I tensorflow/stream_executor/platform/default/dso_loader.cc:49] Successfully opened dynamic library libcurand.so.10\n",
      "2022-07-03 17:39:33.789777: I tensorflow/stream_executor/platform/default/dso_loader.cc:49] Successfully opened dynamic library libcusolver.so.10\n",
      "2022-07-03 17:39:33.790203: I tensorflow/stream_executor/platform/default/dso_loader.cc:49] Successfully opened dynamic library libcusparse.so.11\n",
      "2022-07-03 17:39:33.790296: I tensorflow/stream_executor/platform/default/dso_loader.cc:49] Successfully opened dynamic library libcudnn.so.8\n",
      "2022-07-03 17:39:33.790486: I tensorflow/stream_executor/cuda/cuda_gpu_executor.cc:941] successful NUMA node read from SysFS had negative value (-1), but there must be at least one NUMA node, so returning NUMA node zero\n",
      "2022-07-03 17:39:33.790782: I tensorflow/stream_executor/cuda/cuda_gpu_executor.cc:941] successful NUMA node read from SysFS had negative value (-1), but there must be at least one NUMA node, so returning NUMA node zero\n",
      "2022-07-03 17:39:33.790971: I tensorflow/core/common_runtime/gpu/gpu_device.cc:1862] Adding visible gpu devices: 0\n"
     ]
    }
   ],
   "source": [
    "gpu_devices = tf.config.experimental.list_physical_devices('GPU')\n",
    "for device in gpu_devices:\n",
    "    tf.config.experimental.set_memory_growth(device, True)"
   ]
  },
  {
   "cell_type": "code",
   "execution_count": 3,
   "id": "80b4f195",
   "metadata": {},
   "outputs": [
    {
     "data": {
      "text/plain": [
       "[PhysicalDevice(name='/physical_device:GPU:0', device_type='GPU')]"
      ]
     },
     "execution_count": 3,
     "metadata": {},
     "output_type": "execute_result"
    }
   ],
   "source": [
    "gpu_devices"
   ]
  },
  {
   "cell_type": "code",
   "execution_count": 4,
   "id": "a87d6e5f",
   "metadata": {},
   "outputs": [
    {
     "name": "stderr",
     "output_type": "stream",
     "text": [
      "2022-07-03 17:39:33.811459: I tensorflow/core/platform/cpu_feature_guard.cc:142] This TensorFlow binary is optimized with oneAPI Deep Neural Network Library (oneDNN) to use the following CPU instructions in performance-critical operations:  AVX2 FMA\n",
      "To enable them in other operations, rebuild TensorFlow with the appropriate compiler flags.\n",
      "2022-07-03 17:39:33.813613: I tensorflow/compiler/jit/xla_gpu_device.cc:99] Not creating XLA devices, tf_xla_enable_xla_devices not set\n",
      "2022-07-03 17:39:33.813923: I tensorflow/stream_executor/cuda/cuda_gpu_executor.cc:941] successful NUMA node read from SysFS had negative value (-1), but there must be at least one NUMA node, so returning NUMA node zero\n",
      "2022-07-03 17:39:33.814335: I tensorflow/core/common_runtime/gpu/gpu_device.cc:1720] Found device 0 with properties: \n",
      "pciBusID: 0000:42:00.0 name: NVIDIA GeForce RTX 2080 computeCapability: 7.5\n",
      "coreClock: 1.71GHz coreCount: 46 deviceMemorySize: 7.79GiB deviceMemoryBandwidth: 417.23GiB/s\n",
      "2022-07-03 17:39:33.814377: I tensorflow/stream_executor/platform/default/dso_loader.cc:49] Successfully opened dynamic library libcudart.so.11.0\n",
      "2022-07-03 17:39:33.814431: I tensorflow/stream_executor/platform/default/dso_loader.cc:49] Successfully opened dynamic library libcublas.so.11\n",
      "2022-07-03 17:39:33.814459: I tensorflow/stream_executor/platform/default/dso_loader.cc:49] Successfully opened dynamic library libcublasLt.so.11\n",
      "2022-07-03 17:39:33.814489: I tensorflow/stream_executor/platform/default/dso_loader.cc:49] Successfully opened dynamic library libcufft.so.10\n",
      "2022-07-03 17:39:33.814514: I tensorflow/stream_executor/platform/default/dso_loader.cc:49] Successfully opened dynamic library libcurand.so.10\n",
      "2022-07-03 17:39:33.814539: I tensorflow/stream_executor/platform/default/dso_loader.cc:49] Successfully opened dynamic library libcusolver.so.10\n",
      "2022-07-03 17:39:33.814564: I tensorflow/stream_executor/platform/default/dso_loader.cc:49] Successfully opened dynamic library libcusparse.so.11\n",
      "2022-07-03 17:39:33.814589: I tensorflow/stream_executor/platform/default/dso_loader.cc:49] Successfully opened dynamic library libcudnn.so.8\n",
      "2022-07-03 17:39:33.814689: I tensorflow/stream_executor/cuda/cuda_gpu_executor.cc:941] successful NUMA node read from SysFS had negative value (-1), but there must be at least one NUMA node, so returning NUMA node zero\n",
      "2022-07-03 17:39:33.815106: I tensorflow/stream_executor/cuda/cuda_gpu_executor.cc:941] successful NUMA node read from SysFS had negative value (-1), but there must be at least one NUMA node, so returning NUMA node zero\n",
      "2022-07-03 17:39:33.815463: I tensorflow/core/common_runtime/gpu/gpu_device.cc:1862] Adding visible gpu devices: 0\n",
      "2022-07-03 17:39:33.815554: I tensorflow/stream_executor/platform/default/dso_loader.cc:49] Successfully opened dynamic library libcudart.so.11.0\n",
      "2022-07-03 17:39:34.122915: I tensorflow/core/common_runtime/gpu/gpu_device.cc:1261] Device interconnect StreamExecutor with strength 1 edge matrix:\n",
      "2022-07-03 17:39:34.122954: I tensorflow/core/common_runtime/gpu/gpu_device.cc:1267]      0 \n",
      "2022-07-03 17:39:34.122960: I tensorflow/core/common_runtime/gpu/gpu_device.cc:1280] 0:   N \n",
      "2022-07-03 17:39:34.123246: I tensorflow/stream_executor/cuda/cuda_gpu_executor.cc:941] successful NUMA node read from SysFS had negative value (-1), but there must be at least one NUMA node, so returning NUMA node zero\n",
      "2022-07-03 17:39:34.123520: I tensorflow/stream_executor/cuda/cuda_gpu_executor.cc:941] successful NUMA node read from SysFS had negative value (-1), but there must be at least one NUMA node, so returning NUMA node zero\n",
      "2022-07-03 17:39:34.123754: I tensorflow/stream_executor/cuda/cuda_gpu_executor.cc:941] successful NUMA node read from SysFS had negative value (-1), but there must be at least one NUMA node, so returning NUMA node zero\n",
      "2022-07-03 17:39:34.123967: I tensorflow/core/common_runtime/gpu/gpu_device.cc:1406] Created TensorFlow device (/job:localhost/replica:0/task:0/device:GPU:0 with 1241 MB memory) -> physical GPU (device: 0, name: NVIDIA GeForce RTX 2080, pci bus id: 0000:42:00.0, compute capability: 7.5)\n"
     ]
    }
   ],
   "source": [
    "os.environ['TF_DETERMINISTIC_OPS'] = '1'\n",
    "config = tf.compat.v1.ConfigProto()\n",
    "config.gpu_options.allow_growth = True\n",
    "session = tf.compat.v1.Session(config=config)\n"
   ]
  },
  {
   "cell_type": "code",
   "execution_count": 5,
   "id": "d6ff63c0",
   "metadata": {},
   "outputs": [],
   "source": [
    "logger = logging.getLogger(__name__)\n",
    "logger.info(f\"Num GPUs Available: {len(tf.config.list_physical_devices('GPU'))}.\")\n",
    "RANDOM_STATE = 39\n",
    "\n",
    "DATASET_NAME = \"TwoLeadECG\"\n",
    "OUTPUT_FILENAME = \"twolead-outfile.csv\"\n",
    "result_writer = ResultWriter(file_name=OUTPUT_FILENAME, dataset_name=DATASET_NAME)\n",
    "logger.info(f\"Result writer is ready, writing to {OUTPUT_FILENAME}...\")\n",
    "result_writer.write_head()\n"
   ]
  },
  {
   "cell_type": "code",
   "execution_count": 6,
   "id": "774a78f4",
   "metadata": {},
   "outputs": [],
   "source": [
    "# 1. Load data\n",
    "X, y = load_dataset(DATASET_NAME, repository=\"wildboar/ucr\")\n",
    "\n",
    "pos = 1\n",
    "neg = 2\n",
    "# Convert positive and negative labels to 1 and 0\n",
    "pos_label, neg_label = 1, 0\n",
    "y_copy = y.copy()\n",
    "if pos != pos_label:\n",
    "    y_copy[y==pos] = pos_label # convert/normalize positive label to 1\n",
    "if neg != neg_label:\n",
    "    y_copy[y==neg] = neg_label # convert negative label to 0\n",
    "\n",
    "X_train, X_test, y_train, y_test = train_test_split(X, y_copy, test_size=0.2, random_state=RANDOM_STATE, stratify=y_copy) \n",
    "\n",
    "# Upsample the minority class\n",
    "y_train_copy = y_train.copy()\n",
    "X_train, y_train = upsample_minority(X_train, y_train, pos_label=pos_label, neg_label=neg_label)\n",
    "if y_train.shape != y_train_copy.shape:\n",
    "    logger.info(f\"Data upsampling performed, current distribution of y: \\n{pd.value_counts(y_train)}.\")\n"
   ]
  },
  {
   "cell_type": "code",
   "execution_count": 8,
   "id": "66181d53",
   "metadata": {},
   "outputs": [],
   "source": [
    "# ### 1.1 Normalization - fit scaler using training data \n",
    "n_training, n_timesteps = X_train.shape\n",
    "n_features = 1\n",
    "\n",
    "X_train_processed, trained_scaler = time_series_normalize(data=X_train, n_timesteps=n_timesteps)\n",
    "X_test_processed, _ = time_series_normalize(data=X_test, n_timesteps=n_timesteps, scaler=trained_scaler)\n",
    "\n",
    "X_train_processed_padded, padding_size = conditional_pad(X_train_processed) # add extra padding zeros if n_timesteps cannot be divided by 4, required for 1dCNN autoencoder structure\n",
    "X_test_processed_padded, _ = conditional_pad(X_test_processed) \n",
    "n_timesteps_padded = X_train_processed_padded.shape[1]\n",
    "logger.info(f\"Data pre-processed, original #timesteps={n_timesteps}, padded #timesteps={n_timesteps_padded}.\")\n"
   ]
  },
  {
   "cell_type": "code",
   "execution_count": 9,
   "id": "03febb4b",
   "metadata": {},
   "outputs": [],
   "source": [
    "y_train_classes = y_train\n",
    "y_test_classes = y_test\n",
    "\n",
    "from tensorflow.keras.utils import to_categorical\n",
    "y_train = to_categorical(y_train, len(np.unique(y_train)))\n",
    "y_test = to_categorical(y_test, len(np.unique(y_test)))"
   ]
  },
  {
   "cell_type": "code",
   "execution_count": 10,
   "id": "e8f551c9",
   "metadata": {
    "scrolled": true
   },
   "outputs": [
    {
     "name": "stderr",
     "output_type": "stream",
     "text": [
      "2022-07-03 17:39:37.697144: I tensorflow/compiler/jit/xla_gpu_device.cc:99] Not creating XLA devices, tf_xla_enable_xla_devices not set\n",
      "2022-07-03 17:39:37.697400: I tensorflow/stream_executor/cuda/cuda_gpu_executor.cc:941] successful NUMA node read from SysFS had negative value (-1), but there must be at least one NUMA node, so returning NUMA node zero\n",
      "2022-07-03 17:39:37.697666: I tensorflow/core/common_runtime/gpu/gpu_device.cc:1720] Found device 0 with properties: \n",
      "pciBusID: 0000:42:00.0 name: NVIDIA GeForce RTX 2080 computeCapability: 7.5\n",
      "coreClock: 1.71GHz coreCount: 46 deviceMemorySize: 7.79GiB deviceMemoryBandwidth: 417.23GiB/s\n",
      "2022-07-03 17:39:37.697692: I tensorflow/stream_executor/platform/default/dso_loader.cc:49] Successfully opened dynamic library libcudart.so.11.0\n",
      "2022-07-03 17:39:37.697727: I tensorflow/stream_executor/platform/default/dso_loader.cc:49] Successfully opened dynamic library libcublas.so.11\n",
      "2022-07-03 17:39:37.697739: I tensorflow/stream_executor/platform/default/dso_loader.cc:49] Successfully opened dynamic library libcublasLt.so.11\n",
      "2022-07-03 17:39:37.697750: I tensorflow/stream_executor/platform/default/dso_loader.cc:49] Successfully opened dynamic library libcufft.so.10\n",
      "2022-07-03 17:39:37.697760: I tensorflow/stream_executor/platform/default/dso_loader.cc:49] Successfully opened dynamic library libcurand.so.10\n",
      "2022-07-03 17:39:37.697771: I tensorflow/stream_executor/platform/default/dso_loader.cc:49] Successfully opened dynamic library libcusolver.so.10\n",
      "2022-07-03 17:39:37.697781: I tensorflow/stream_executor/platform/default/dso_loader.cc:49] Successfully opened dynamic library libcusparse.so.11\n",
      "2022-07-03 17:39:37.697792: I tensorflow/stream_executor/platform/default/dso_loader.cc:49] Successfully opened dynamic library libcudnn.so.8\n",
      "2022-07-03 17:39:37.697855: I tensorflow/stream_executor/cuda/cuda_gpu_executor.cc:941] successful NUMA node read from SysFS had negative value (-1), but there must be at least one NUMA node, so returning NUMA node zero\n",
      "2022-07-03 17:39:37.698089: I tensorflow/stream_executor/cuda/cuda_gpu_executor.cc:941] successful NUMA node read from SysFS had negative value (-1), but there must be at least one NUMA node, so returning NUMA node zero\n",
      "2022-07-03 17:39:37.698272: I tensorflow/core/common_runtime/gpu/gpu_device.cc:1862] Adding visible gpu devices: 0\n",
      "2022-07-03 17:39:37.698297: I tensorflow/core/common_runtime/gpu/gpu_device.cc:1261] Device interconnect StreamExecutor with strength 1 edge matrix:\n",
      "2022-07-03 17:39:37.698301: I tensorflow/core/common_runtime/gpu/gpu_device.cc:1267]      0 \n",
      "2022-07-03 17:39:37.698305: I tensorflow/core/common_runtime/gpu/gpu_device.cc:1280] 0:   N \n",
      "2022-07-03 17:39:37.698381: I tensorflow/stream_executor/cuda/cuda_gpu_executor.cc:941] successful NUMA node read from SysFS had negative value (-1), but there must be at least one NUMA node, so returning NUMA node zero\n",
      "2022-07-03 17:39:37.698619: I tensorflow/stream_executor/cuda/cuda_gpu_executor.cc:941] successful NUMA node read from SysFS had negative value (-1), but there must be at least one NUMA node, so returning NUMA node zero\n",
      "2022-07-03 17:39:37.698809: I tensorflow/core/common_runtime/gpu/gpu_device.cc:1406] Created TensorFlow device (/job:localhost/replica:0/task:0/device:GPU:0 with 1241 MB memory) -> physical GPU (device: 0, name: NVIDIA GeForce RTX 2080, pci bus id: 0000:42:00.0, compute capability: 7.5)\n",
      "2022-07-03 17:39:37.935610: I tensorflow/compiler/mlir/mlir_graph_optimization_pass.cc:116] None of the MLIR optimization passes are enabled (registered 2)\n",
      "2022-07-03 17:39:37.952863: I tensorflow/core/platform/profile_utils/cpu_utils.cc:112] CPU Frequency: 3492855000 Hz\n"
     ]
    },
    {
     "name": "stdout",
     "output_type": "stream",
     "text": [
      "Epoch 1/150\n"
     ]
    },
    {
     "name": "stderr",
     "output_type": "stream",
     "text": [
      "2022-07-03 17:39:39.315937: I tensorflow/stream_executor/platform/default/dso_loader.cc:49] Successfully opened dynamic library libcublas.so.11\n",
      "2022-07-03 17:39:39.615280: I tensorflow/stream_executor/platform/default/dso_loader.cc:49] Successfully opened dynamic library libcublasLt.so.11\n",
      "2022-07-03 17:39:39.618638: I tensorflow/stream_executor/platform/default/dso_loader.cc:49] Successfully opened dynamic library libcudnn.so.8\n"
     ]
    },
    {
     "name": "stdout",
     "output_type": "stream",
     "text": [
      "30/30 [==============================] - 4s 36ms/step - loss: 0.6138 - accuracy: 0.7021 - val_loss: 0.6941 - val_accuracy: 0.5021\n",
      "Epoch 2/150\n",
      "30/30 [==============================] - 0s 13ms/step - loss: 0.3179 - accuracy: 0.9624 - val_loss: 0.6933 - val_accuracy: 0.5021\n",
      "Epoch 3/150\n",
      "30/30 [==============================] - 0s 13ms/step - loss: 0.2223 - accuracy: 0.9754 - val_loss: 0.6943 - val_accuracy: 0.5021\n",
      "Epoch 4/150\n",
      "30/30 [==============================] - 0s 14ms/step - loss: 0.1618 - accuracy: 0.9839 - val_loss: 0.7002 - val_accuracy: 0.5021\n",
      "Epoch 5/150\n",
      "30/30 [==============================] - 0s 14ms/step - loss: 0.1397 - accuracy: 0.9843 - val_loss: 0.7075 - val_accuracy: 0.5021\n",
      "Epoch 6/150\n",
      "30/30 [==============================] - 0s 13ms/step - loss: 0.1144 - accuracy: 0.9948 - val_loss: 0.7153 - val_accuracy: 0.5021\n",
      "Epoch 7/150\n",
      "30/30 [==============================] - 0s 14ms/step - loss: 0.0848 - accuracy: 0.9975 - val_loss: 0.7215 - val_accuracy: 0.5021\n",
      "Epoch 8/150\n",
      "30/30 [==============================] - 0s 13ms/step - loss: 0.0740 - accuracy: 0.9963 - val_loss: 0.7249 - val_accuracy: 0.5021\n",
      "Epoch 9/150\n",
      "30/30 [==============================] - 0s 14ms/step - loss: 0.0736 - accuracy: 0.9949 - val_loss: 0.7252 - val_accuracy: 0.5021\n",
      "Epoch 10/150\n",
      "30/30 [==============================] - 0s 14ms/step - loss: 0.0591 - accuracy: 0.9993 - val_loss: 0.7072 - val_accuracy: 0.5021\n",
      "Epoch 11/150\n",
      "30/30 [==============================] - 0s 14ms/step - loss: 0.0682 - accuracy: 0.9939 - val_loss: 0.6705 - val_accuracy: 0.5021\n",
      "Epoch 12/150\n",
      "30/30 [==============================] - 0s 14ms/step - loss: 0.0551 - accuracy: 0.9987 - val_loss: 0.6441 - val_accuracy: 0.5021\n",
      "Epoch 13/150\n",
      "30/30 [==============================] - 0s 14ms/step - loss: 0.0583 - accuracy: 0.9991 - val_loss: 0.5950 - val_accuracy: 0.5322\n",
      "Epoch 14/150\n",
      "30/30 [==============================] - 0s 14ms/step - loss: 0.0494 - accuracy: 0.9963 - val_loss: 0.5114 - val_accuracy: 0.5966\n",
      "Epoch 15/150\n",
      "30/30 [==============================] - 0s 14ms/step - loss: 0.0476 - accuracy: 0.9992 - val_loss: 0.4035 - val_accuracy: 0.7811\n",
      "Epoch 16/150\n",
      "30/30 [==============================] - 0s 13ms/step - loss: 0.0443 - accuracy: 0.9967 - val_loss: 0.3171 - val_accuracy: 0.8670\n",
      "Epoch 17/150\n",
      "30/30 [==============================] - 0s 13ms/step - loss: 0.0454 - accuracy: 0.9969 - val_loss: 0.3168 - val_accuracy: 0.8455\n",
      "Epoch 18/150\n",
      "30/30 [==============================] - 0s 14ms/step - loss: 0.0507 - accuracy: 0.9971 - val_loss: 0.2082 - val_accuracy: 0.9657\n",
      "Epoch 19/150\n",
      "30/30 [==============================] - 0s 14ms/step - loss: 0.0386 - accuracy: 0.9999 - val_loss: 0.1242 - val_accuracy: 0.9871\n",
      "Epoch 20/150\n",
      "30/30 [==============================] - 0s 14ms/step - loss: 0.0464 - accuracy: 0.9965 - val_loss: 0.0941 - val_accuracy: 0.9957\n",
      "Epoch 21/150\n",
      "30/30 [==============================] - 0s 13ms/step - loss: 0.0401 - accuracy: 0.9999 - val_loss: 0.0771 - val_accuracy: 0.9914\n",
      "Epoch 22/150\n",
      "30/30 [==============================] - 0s 13ms/step - loss: 0.0389 - accuracy: 0.9990 - val_loss: 0.0705 - val_accuracy: 0.9957\n",
      "Epoch 23/150\n",
      "30/30 [==============================] - 0s 13ms/step - loss: 0.0373 - accuracy: 0.9992 - val_loss: 0.0494 - val_accuracy: 0.9957\n",
      "Epoch 24/150\n",
      "30/30 [==============================] - 0s 13ms/step - loss: 0.0371 - accuracy: 0.9991 - val_loss: 0.0772 - val_accuracy: 0.9914\n",
      "Epoch 25/150\n",
      "30/30 [==============================] - 0s 13ms/step - loss: 0.0317 - accuracy: 0.9988 - val_loss: 0.1076 - val_accuracy: 0.9700\n",
      "Epoch 26/150\n",
      "30/30 [==============================] - 0s 14ms/step - loss: 0.0384 - accuracy: 0.9957 - val_loss: 0.1336 - val_accuracy: 0.9528\n",
      "Epoch 27/150\n",
      "30/30 [==============================] - 0s 13ms/step - loss: 0.0286 - accuracy: 0.9973 - val_loss: 0.0679 - val_accuracy: 0.9828\n",
      "Epoch 28/150\n",
      "30/30 [==============================] - 0s 14ms/step - loss: 0.0328 - accuracy: 0.9974 - val_loss: 0.0423 - val_accuracy: 0.9914\n",
      "Epoch 29/150\n",
      "30/30 [==============================] - 0s 13ms/step - loss: 0.0309 - accuracy: 0.9962 - val_loss: 0.0338 - val_accuracy: 0.9914\n",
      "Epoch 30/150\n",
      "30/30 [==============================] - 0s 13ms/step - loss: 0.0247 - accuracy: 0.9994 - val_loss: 0.0377 - val_accuracy: 0.9914\n",
      "Epoch 31/150\n",
      "30/30 [==============================] - 0s 13ms/step - loss: 0.0302 - accuracy: 0.9996 - val_loss: 0.0280 - val_accuracy: 0.9957\n",
      "Epoch 32/150\n",
      "30/30 [==============================] - 0s 13ms/step - loss: 0.0266 - accuracy: 0.9988 - val_loss: 0.0271 - val_accuracy: 0.9957\n",
      "Epoch 33/150\n",
      "30/30 [==============================] - 0s 14ms/step - loss: 0.0270 - accuracy: 0.9997 - val_loss: 0.0325 - val_accuracy: 0.9914\n",
      "Epoch 34/150\n",
      "30/30 [==============================] - 0s 14ms/step - loss: 0.0291 - accuracy: 1.0000 - val_loss: 0.0273 - val_accuracy: 0.9957\n",
      "Epoch 35/150\n",
      "30/30 [==============================] - 0s 14ms/step - loss: 0.0267 - accuracy: 0.9981 - val_loss: 0.0267 - val_accuracy: 0.9957\n",
      "Epoch 36/150\n",
      "30/30 [==============================] - 0s 14ms/step - loss: 0.0235 - accuracy: 0.9999 - val_loss: 0.0373 - val_accuracy: 0.9914\n",
      "Epoch 37/150\n",
      "30/30 [==============================] - 0s 14ms/step - loss: 0.0270 - accuracy: 0.9998 - val_loss: 0.0306 - val_accuracy: 0.9914\n",
      "Epoch 38/150\n",
      "30/30 [==============================] - 0s 14ms/step - loss: 0.0228 - accuracy: 0.9999 - val_loss: 0.0299 - val_accuracy: 0.9914\n",
      "Epoch 39/150\n",
      "30/30 [==============================] - 0s 14ms/step - loss: 0.0254 - accuracy: 1.0000 - val_loss: 0.0325 - val_accuracy: 0.9914\n",
      "Epoch 40/150\n",
      "30/30 [==============================] - 0s 14ms/step - loss: 0.0224 - accuracy: 0.9999 - val_loss: 0.0309 - val_accuracy: 0.9914\n",
      "Epoch 41/150\n",
      "30/30 [==============================] - 0s 14ms/step - loss: 0.0329 - accuracy: 0.9969 - val_loss: 0.0530 - val_accuracy: 0.9828\n",
      "Epoch 42/150\n",
      "30/30 [==============================] - 0s 14ms/step - loss: 0.0377 - accuracy: 0.9940 - val_loss: 0.0251 - val_accuracy: 0.9957\n",
      "Epoch 43/150\n",
      "30/30 [==============================] - 0s 14ms/step - loss: 0.0246 - accuracy: 0.9999 - val_loss: 0.0220 - val_accuracy: 0.9957\n",
      "Epoch 44/150\n",
      "30/30 [==============================] - 0s 14ms/step - loss: 0.0318 - accuracy: 0.9959 - val_loss: 0.0206 - val_accuracy: 0.9957\n",
      "Epoch 45/150\n",
      "30/30 [==============================] - 0s 14ms/step - loss: 0.0298 - accuracy: 0.9943 - val_loss: 0.0196 - val_accuracy: 0.9957\n",
      "Epoch 46/150\n",
      "30/30 [==============================] - 0s 14ms/step - loss: 0.0263 - accuracy: 0.9984 - val_loss: 0.0225 - val_accuracy: 0.9957\n",
      "Epoch 47/150\n",
      "30/30 [==============================] - 0s 13ms/step - loss: 0.0211 - accuracy: 0.9991 - val_loss: 0.0245 - val_accuracy: 0.9957\n",
      "Epoch 48/150\n",
      "30/30 [==============================] - 0s 14ms/step - loss: 0.0185 - accuracy: 1.0000 - val_loss: 0.0240 - val_accuracy: 0.9957\n",
      "Epoch 49/150\n",
      "30/30 [==============================] - 0s 13ms/step - loss: 0.0193 - accuracy: 0.9988 - val_loss: 0.0265 - val_accuracy: 0.9914\n",
      "Epoch 50/150\n",
      "30/30 [==============================] - 0s 14ms/step - loss: 0.0201 - accuracy: 0.9999 - val_loss: 0.0366 - val_accuracy: 0.9914\n",
      "LSTM-FCN classifier trained, with validation accuracy 0.9957264957264957.\n",
      "Confusion matrix: \n",
      "          Pred:pos  Pred:neg\n",
      "True:pos       116         1\n",
      "True:neg         0       116.\n"
     ]
    }
   ],
   "source": [
    "n_lstmcells = 8\n",
    "\n",
    "# ## 2. LatentCF models\n",
    "# reset seeds for numpy, tensorflow, python random package and python environment seed\n",
    "reset_seeds()\n",
    "\n",
    "###############################################\n",
    "# ## 2.0 LSTM-FCN classifier\n",
    "###############################################\n",
    "# ### LSTM-FCN classifier\n",
    "classifier = LSTMFCNClassifier(\n",
    "    n_timesteps_padded, n_features, n_output=2, n_LSTM_cells=n_lstmcells\n",
    ")\n",
    "\n",
    "optimizer = keras.optimizers.Adam(lr=0.0001)\n",
    "classifier.compile(\n",
    "    optimizer=optimizer, loss=\"binary_crossentropy\", metrics=[\"accuracy\"]\n",
    ")\n",
    "\n",
    "# Define the early stopping criteria\n",
    "early_stopping_accuracy = keras.callbacks.EarlyStopping(\n",
    "    monitor=\"val_accuracy\", patience=30, restore_best_weights=True\n",
    ")\n",
    "# Train the model\n",
    "reset_seeds()\n",
    "logger.info(\"Training log for LSTM-FCN classifier:\")\n",
    "classifier_history = classifier.fit(\n",
    "    X_train_processed_padded,\n",
    "    y_train,\n",
    "    epochs=150,\n",
    "    batch_size=32,\n",
    "    shuffle=True,\n",
    "    verbose=True,\n",
    "    validation_data=(X_test_processed_padded, y_test),\n",
    "    callbacks=[early_stopping_accuracy],\n",
    ")\n",
    "\n",
    "y_pred = classifier.predict(X_test_processed_padded)\n",
    "y_pred_classes = np.argmax(y_pred, axis=1)\n",
    "acc = balanced_accuracy_score(y_true=y_test_classes, y_pred=y_pred_classes)\n",
    "print(f\"LSTM-FCN classifier trained, with validation accuracy {acc}.\")\n",
    "\n",
    "confusion_matrix_df = pd.DataFrame(\n",
    "    confusion_matrix(y_true=y_test_classes, y_pred=y_pred_classes, labels=[1, 0]),\n",
    "    index=[\"True:pos\", \"True:neg\"],\n",
    "    columns=[\"Pred:pos\", \"Pred:neg\"],\n",
    ")\n",
    "print(f\"Confusion matrix: \\n{confusion_matrix_df}.\")"
   ]
  },
  {
   "cell_type": "markdown",
   "id": "598e9e44",
   "metadata": {},
   "source": [
    "## 1dCNN search"
   ]
  },
  {
   "cell_type": "code",
   "execution_count": 11,
   "id": "c60c78f9",
   "metadata": {
    "scrolled": true
   },
   "outputs": [
    {
     "name": "stdout",
     "output_type": "stream",
     "text": [
      "Epoch 1/50\n",
      "30/30 [==============================] - 1s 22ms/step - loss: 0.2281 - val_loss: 0.0135\n",
      "Epoch 2/50\n",
      "30/30 [==============================] - 0s 15ms/step - loss: 0.0142 - val_loss: 0.0099\n",
      "Epoch 3/50\n",
      "30/30 [==============================] - 0s 15ms/step - loss: 0.0091 - val_loss: 0.0059\n",
      "Epoch 4/50\n",
      "30/30 [==============================] - 0s 15ms/step - loss: 0.0048 - val_loss: 0.0021\n",
      "Epoch 5/50\n",
      "30/30 [==============================] - 0s 15ms/step - loss: 0.0018 - val_loss: 0.0011\n",
      "Epoch 6/50\n",
      "30/30 [==============================] - 0s 15ms/step - loss: 0.0010 - val_loss: 7.9734e-04\n",
      "Epoch 7/50\n",
      "30/30 [==============================] - 0s 15ms/step - loss: 7.5203e-04 - val_loss: 6.2794e-04\n",
      "Epoch 8/50\n",
      "30/30 [==============================] - 0s 16ms/step - loss: 5.9373e-04 - val_loss: 4.9411e-04\n",
      "Epoch 9/50\n",
      "30/30 [==============================] - 0s 15ms/step - loss: 4.6730e-04 - val_loss: 3.9226e-04\n",
      "Epoch 10/50\n",
      "30/30 [==============================] - 0s 15ms/step - loss: 3.7357e-04 - val_loss: 3.1865e-04\n",
      "Epoch 11/50\n",
      "30/30 [==============================] - 0s 15ms/step - loss: 3.1386e-04 - val_loss: 2.7014e-04\n",
      "Epoch 12/50\n",
      "30/30 [==============================] - 0s 15ms/step - loss: 2.7174e-04 - val_loss: 2.3211e-04\n",
      "Epoch 13/50\n",
      "30/30 [==============================] - 0s 14ms/step - loss: 2.3811e-04 - val_loss: 2.0616e-04\n",
      "Epoch 14/50\n",
      "30/30 [==============================] - 0s 15ms/step - loss: 2.0421e-04 - val_loss: 1.8504e-04\n",
      "Epoch 15/50\n",
      "30/30 [==============================] - 0s 16ms/step - loss: 1.8373e-04 - val_loss: 1.6784e-04\n",
      "Epoch 16/50\n",
      "30/30 [==============================] - 0s 14ms/step - loss: 1.7003e-04 - val_loss: 1.5148e-04\n",
      "Epoch 17/50\n",
      "30/30 [==============================] - 0s 14ms/step - loss: 1.4390e-04 - val_loss: 1.3788e-04\n",
      "Epoch 18/50\n",
      "30/30 [==============================] - 0s 16ms/step - loss: 1.3544e-04 - val_loss: 1.2210e-04\n",
      "Epoch 19/50\n",
      "30/30 [==============================] - 0s 14ms/step - loss: 1.2255e-04 - val_loss: 1.1195e-04\n",
      "Epoch 20/50\n",
      "30/30 [==============================] - 0s 15ms/step - loss: 1.1070e-04 - val_loss: 1.0421e-04\n",
      "1dCNN autoencoder trained, with validation loss: 0.00010420797480037436.\n"
     ]
    }
   ],
   "source": [
    "###############################################\n",
    "# ## 2.1 CF search with 1dCNN autoencoder\n",
    "###############################################\n",
    "# ### 1dCNN autoencoder\n",
    "autoencoder = Autoencoder(n_timesteps_padded, n_features)\n",
    "optimizer = keras.optimizers.Adam(lr=0.0005)\n",
    "autoencoder.compile(optimizer=optimizer, loss=\"mse\")\n",
    "\n",
    "# Define the early stopping criteria\n",
    "early_stopping = keras.callbacks.EarlyStopping(\n",
    "    monitor=\"val_loss\", min_delta=0.0001, patience=5, restore_best_weights=True\n",
    ")\n",
    "# Train the model\n",
    "reset_seeds()\n",
    "logger.info(\"Training log for 1dCNN autoencoder:\")\n",
    "autoencoder_history = autoencoder.fit(\n",
    "    X_train_processed_padded,\n",
    "    X_train_processed_padded,\n",
    "    epochs=50,\n",
    "    batch_size=32,\n",
    "    shuffle=True,\n",
    "    verbose=True,\n",
    "    validation_data=(X_test_processed_padded, X_test_processed_padded),\n",
    "    callbacks=[early_stopping],\n",
    ")\n",
    "\n",
    "ae_val_loss = np.min(autoencoder_history.history[\"val_loss\"])\n",
    "print(f\"1dCNN autoencoder trained, with validation loss: {ae_val_loss}.\")\n"
   ]
  },
  {
   "cell_type": "markdown",
   "id": "576d45df",
   "metadata": {},
   "source": [
    "## CF search, original"
   ]
  },
  {
   "cell_type": "code",
   "execution_count": 12,
   "id": "4184c392",
   "metadata": {},
   "outputs": [
    {
     "name": "stdout",
     "output_type": "stream",
     "text": [
      "======================== CF search started, with lr=0.0001.\n",
      "0 samples been transformed.\n",
      "lr=0.0001 finished. Validity: 1.0, proximity (with padding): 0.15803066058655157, margin difference: (0.00066946744, 0.0001925401).\n",
      "The best learning rate found is 0.0001.\n"
     ]
    }
   ],
   "source": [
    "from _guided import get_global_weights\n",
    "PRED_MARGIN_W_LIST = [1]\n",
    "w_type = \"global\"\n",
    "\n",
    "if w_type == \"global\":\n",
    "    step_weights = get_global_weights(\n",
    "        X_train_processed_padded,\n",
    "        y_train_classes,\n",
    "        classifier,\n",
    "        random_state=RANDOM_STATE,\n",
    "    )\n",
    "elif w_type == \"uniform\":\n",
    "    step_weights = np.ones((1, n_timesteps_padded, n_features))\n",
    "elif w_type.lower() == \"local\":\n",
    "    step_weights = \"local\"\n",
    "else:\n",
    "    raise NotImplementedError(\n",
    "        \"A.w_type not implemented, please choose 'local', 'global' or 'uniform'.\"\n",
    "    )\n",
    "\n",
    "### Evaluation metrics\n",
    "for pred_margin_weight in PRED_MARGIN_W_LIST:\n",
    "    logger.info(f\"The current prediction margin weight is {pred_margin_weight}.\")\n",
    "\n",
    "    # Get these instances of negative predictions, which is class abnormal (0); (normal is class 1)\n",
    "    X_pred_neg = X_test_processed_padded[y_pred_classes == neg_label][:10]\n",
    "\n",
    "    lr_list = [0.0001]\n",
    "    best_lr, best_cf_model, best_cf_samples, _ = find_best_lr(\n",
    "        classifier,\n",
    "        X_pred_neg,\n",
    "        autoencoder=autoencoder,\n",
    "        lr_list=lr_list,\n",
    "        pred_margin_weight=pred_margin_weight,\n",
    "        step_weights=step_weights,\n",
    "        random_state=RANDOM_STATE,\n",
    "    )\n",
    "    print(f\"The best learning rate found is {best_lr}.\")\n",
    "\n",
    "    # predicted probabilities of CFs\n",
    "    z_pred = classifier.predict(best_cf_samples)[:, 1]\n",
    "    if padding_size != 0:\n",
    "        # remove extra paddings after counterfactual generation in 1dCNN autoencoder\n",
    "        best_cf_samples = best_cf_samples[:, :-padding_size, :]\n",
    "        # use the unpadded X for evaluation\n",
    "        X_pred_neg_orignal = X_test_processed[y_pred_classes == neg_label][:10]\n",
    "    else:\n",
    "        X_pred_neg_orignal = X_pred_neg\n",
    "\n",
    "    evaluate_res = evaluate(\n",
    "        X_pred_neg_orignal, best_cf_samples, z_pred, n_timesteps\n",
    "    )\n",
    "\n"
   ]
  },
  {
   "cell_type": "code",
   "execution_count": 13,
   "id": "a432b662",
   "metadata": {},
   "outputs": [
    {
     "name": "stdout",
     "output_type": "stream",
     "text": [
      "Done for CF search [1dCNN autoencoder], pred_margin_weight=1.\n"
     ]
    }
   ],
   "source": [
    "result_writer.write_result(\n",
    "    \"1dCNN autoencoder\",\n",
    "    acc,\n",
    "    ae_val_loss,\n",
    "    best_lr,\n",
    "    evaluate_res,\n",
    "    pred_margin_weight=pred_margin_weight,\n",
    "    step_weight_type=w_type.lower(),\n",
    ")\n",
    "print(f\"Done for CF search [1dCNN autoencoder], pred_margin_weight={pred_margin_weight}.\")\n"
   ]
  },
  {
   "cell_type": "code",
   "execution_count": 14,
   "id": "82d235be",
   "metadata": {},
   "outputs": [],
   "source": [
    "# Uncomment to visualize the first 5 counterfactual samples\n",
    "# Map the results back to the original scale, for comparison\n",
    "actual_Xs = time_series_revert(X_pred_neg_orignal, n_timesteps=n_timesteps, scaler=trained_scaler)\n",
    "actual_cfs = time_series_revert(best_cf_samples, n_timesteps=n_timesteps, scaler=trained_scaler)"
   ]
  },
  {
   "cell_type": "markdown",
   "id": "e4e6e70d",
   "metadata": {},
   "source": [
    "### plot for TwoLeadECG"
   ]
  },
  {
   "cell_type": "code",
   "execution_count": 15,
   "id": "76a1f54f",
   "metadata": {},
   "outputs": [],
   "source": [
    "sample_id = 3"
   ]
  },
  {
   "cell_type": "code",
   "execution_count": 16,
   "id": "0d95cf88",
   "metadata": {},
   "outputs": [],
   "source": [
    "original_sample = actual_Xs[sample_id, :]\n",
    "cf_sample = actual_cfs[sample_id, :]"
   ]
  },
  {
   "cell_type": "code",
   "execution_count": 17,
   "id": "b2be787d",
   "metadata": {},
   "outputs": [
    {
     "data": {
      "image/png": "[encoded data removed]",
      "text/plain": [
       "<Figure size 432x288 with 1 Axes>"
      ]
     },
     "metadata": {
      "needs_background": "light"
     },
     "output_type": "display_data"
    }
   ],
   "source": [
    "plt.figure(figsize=(6, 4))\n",
    "plt.plot(original_sample, color='b', label=\"Original ECG\")\n",
    "plt.plot(cf_sample, color='r', label=\"Counterfactual\")\n",
    "plt.xlabel(\"Timestep\")\n",
    "plt.ylabel(\"Voltage\")\n",
    "plt.legend()\n",
    "# plt.grid()\n",
    "color = 'lightcoral' # if weight < 0 else 'green' \n",
    "plt.axvspan(0, 82, color=color, alpha=0.05)\n",
    "plt.show()"
   ]
  },
  {
   "cell_type": "code",
   "execution_count": 18,
   "id": "4b7586c7",
   "metadata": {},
   "outputs": [
    {
     "name": "stdout",
     "output_type": "stream",
     "text": [
      "0.50056374\n"
     ]
    }
   ],
   "source": [
    "print(z_pred[sample_id])"
   ]
  },
  {
   "cell_type": "markdown",
   "id": "dd8016f0",
   "metadata": {},
   "source": [
    "## NoAE search"
   ]
  },
  {
   "cell_type": "code",
   "execution_count": 19,
   "id": "7f1fda14",
   "metadata": {},
   "outputs": [
    {
     "name": "stdout",
     "output_type": "stream",
     "text": [
      "======================== CF search started, with lr=0.001.\n",
      "0 samples been transformed.\n",
      "lr=0.001 finished. Validity: 1.0, proximity (with padding): 0.1471175002733353, margin difference: (0.00041593314, 0.00023545264).\n",
      "The best learning rate found is 0.001.\n",
      "Done for CF search [No autoencoder], pred_margin_weight=1.\n"
     ]
    }
   ],
   "source": [
    "###############################################\n",
    "# ## 2.3 CF search with no autoencoder\n",
    "###############################################\n",
    "for pred_margin_weight in PRED_MARGIN_W_LIST:\n",
    "    logger.info(f\"The current prediction margin weight is {pred_margin_weight}.\")\n",
    "\n",
    "    # Get these instances of negative predictions, which is class abnormal (0); (normal is class 1)\n",
    "    X_pred_neg = X_test_processed_padded[y_pred_classes == neg_label][:10]\n",
    "\n",
    "    lr_list3 = [0.001]\n",
    "    best_lr3, best_cf_model3, best_cf_samples3, _ = find_best_lr(\n",
    "        classifier,\n",
    "        X_pred_neg,\n",
    "        autoencoder=None,\n",
    "        lr_list=lr_list3,\n",
    "        pred_margin_weight=pred_margin_weight,\n",
    "        step_weights=step_weights,\n",
    "        random_state=RANDOM_STATE,\n",
    "    )\n",
    "    print(f\"The best learning rate found is {best_lr3}.\")\n",
    "\n",
    "    # ### Evaluation metrics\n",
    "    # predicted probabilities of CFs\n",
    "    z_pred3 = classifier.predict(best_cf_samples3)[:, 1]\n",
    "    if padding_size != 0:\n",
    "        # remove extra paddings after counterfactual generation\n",
    "        best_cf_samples3 = best_cf_samples3[:, :-padding_size, :]\n",
    "        # use the unpadded X for evaluation\n",
    "        X_pred_neg_orignal = X_test_processed[y_pred_classes == neg_label][:10]\n",
    "    else:\n",
    "        X_pred_neg_orignal = X_pred_neg\n",
    "\n",
    "    evaluate_res3 = evaluate(\n",
    "        X_pred_neg_orignal, best_cf_samples3, z_pred3, n_timesteps\n",
    "    )\n",
    "\n",
    "    result_writer.write_result(\n",
    "        \"No autoencoder\",\n",
    "        acc,\n",
    "        0,\n",
    "        best_lr3,\n",
    "        evaluate_res3,\n",
    "        pred_margin_weight=pred_margin_weight,\n",
    "        step_weight_type=w_type.lower(),\n",
    "    )\n",
    "    print(f\"Done for CF search [No autoencoder], pred_margin_weight={pred_margin_weight}.\")"
   ]
  },
  {
   "cell_type": "code",
   "execution_count": 20,
   "id": "87ca1e34",
   "metadata": {},
   "outputs": [],
   "source": [
    "# Uncomment to visualize the first 5 counterfactual samples\n",
    "# Map the results back to the original scale, for comparison\n",
    "actual_Xs = time_series_revert(X_pred_neg_orignal, n_timesteps=n_timesteps, scaler=trained_scaler)\n",
    "actual_cfs3 = time_series_revert(best_cf_samples3, n_timesteps=n_timesteps, scaler=trained_scaler)"
   ]
  },
  {
   "cell_type": "code",
   "execution_count": 21,
   "id": "81fd9b35",
   "metadata": {
    "scrolled": false
   },
   "outputs": [
    {
     "data": {
      "image/png": "[encoded data removed]",
      "text/plain": [
       "<Figure size 432x288 with 1 Axes>"
      ]
     },
     "metadata": {
      "needs_background": "light"
     },
     "output_type": "display_data"
    }
   ],
   "source": [
    "original_sample = actual_Xs[sample_id, :]\n",
    "cf_sample = actual_cfs3[sample_id, :]\n",
    "\n",
    "plt.figure(figsize=(6, 4))\n",
    "plt.plot(original_sample, color='b', label=\"Original ECG\")\n",
    "plt.plot(cf_sample, color='r', label=\"Counterfactual\")\n",
    "plt.xlabel(\"Timestep\")\n",
    "plt.ylabel(\"Voltage\")\n",
    "plt.legend()\n",
    "# plt.grid()\n",
    "color = 'lightcoral' # if weight < 0 else 'green' \n",
    "plt.axvspan(0, 82, color=color, alpha=0.05)\n",
    "plt.show()"
   ]
  },
  {
   "cell_type": "code",
   "execution_count": 22,
   "id": "8b9c41fe",
   "metadata": {},
   "outputs": [
    {
     "name": "stdout",
     "output_type": "stream",
     "text": [
      "0.50008345\n"
     ]
    }
   ],
   "source": [
    "print(z_pred3[sample_id])"
   ]
  },
  {
   "cell_type": "markdown",
   "id": "7e21e9e9",
   "metadata": {},
   "source": [
    "## global, pred_margin_weight = 0.5"
   ]
  },
  {
   "cell_type": "code",
   "execution_count": 23,
   "id": "a1a08016",
   "metadata": {},
   "outputs": [
    {
     "name": "stdout",
     "output_type": "stream",
     "text": [
      "======================== CF search started, with lr=0.0001.\n",
      "0 samples been transformed.\n",
      "lr=0.0001 finished. Validity: 0.9, proximity (with padding): 0.14882376065601502, margin difference: (0.00044009686, 0.00034098138).\n",
      "The best learning rate found is 0.0001.\n"
     ]
    }
   ],
   "source": [
    "from _guided import get_global_weights\n",
    "PRED_MARGIN_W_LIST = [0.5]\n",
    "w_type = \"global\"\n",
    "\n",
    "if w_type == \"global\":\n",
    "    step_weights = get_global_weights(\n",
    "        X_train_processed_padded,\n",
    "        y_train_classes,\n",
    "        classifier,\n",
    "        random_state=RANDOM_STATE,\n",
    "    )\n",
    "elif w_type == \"uniform\":\n",
    "    step_weights = np.ones((1, n_timesteps_padded, n_features))\n",
    "elif w_type.lower() == \"local\":\n",
    "    step_weights = \"local\"\n",
    "else:\n",
    "    raise NotImplementedError(\n",
    "        \"A.w_type not implemented, please choose 'local', 'global' or 'uniform'.\"\n",
    "    )\n",
    "\n",
    "### Evaluation metrics\n",
    "for pred_margin_weight in PRED_MARGIN_W_LIST:\n",
    "    logger.info(f\"The current prediction margin weight is {pred_margin_weight}.\")\n",
    "\n",
    "    # Get these instances of negative predictions, which is class abnormal (0); (normal is class 1)\n",
    "    X_pred_neg = X_test_processed_padded[y_pred_classes == neg_label][:10]\n",
    "\n",
    "    lr_list = [0.0001]\n",
    "    best_lr, best_cf_model, best_cf_samples, _ = find_best_lr(\n",
    "        classifier,\n",
    "        X_pred_neg,\n",
    "        autoencoder=autoencoder,\n",
    "        lr_list=lr_list,\n",
    "        pred_margin_weight=pred_margin_weight,\n",
    "        step_weights=step_weights,\n",
    "        random_state=RANDOM_STATE,\n",
    "    )\n",
    "    print(f\"The best learning rate found is {best_lr}.\")\n",
    "\n",
    "    # predicted probabilities of CFs\n",
    "    z_pred = classifier.predict(best_cf_samples)[:, 1]\n",
    "    if padding_size != 0:\n",
    "        # remove extra paddings after counterfactual generation in 1dCNN autoencoder\n",
    "        best_cf_samples = best_cf_samples[:, :-padding_size, :]\n",
    "        # use the unpadded X for evaluation\n",
    "        X_pred_neg_orignal = X_test_processed[y_pred_classes == neg_label][:10]\n",
    "    else:\n",
    "        X_pred_neg_orignal = X_pred_neg\n",
    "\n",
    "    evaluate_res = evaluate(\n",
    "        X_pred_neg_orignal, best_cf_samples, z_pred, n_timesteps\n",
    "    )\n",
    "\n"
   ]
  },
  {
   "cell_type": "code",
   "execution_count": 24,
   "id": "7453bccf",
   "metadata": {},
   "outputs": [
    {
     "name": "stdout",
     "output_type": "stream",
     "text": [
      "Done for CF search [1dCNN autoencoder], pred_margin_weight=0.5.\n"
     ]
    }
   ],
   "source": [
    "result_writer.write_result(\n",
    "    \"1dCNN autoencoder\",\n",
    "    acc,\n",
    "    ae_val_loss,\n",
    "    best_lr,\n",
    "    evaluate_res,\n",
    "    pred_margin_weight=pred_margin_weight,\n",
    "    step_weight_type=w_type.lower(),\n",
    ")\n",
    "print(f\"Done for CF search [1dCNN autoencoder], pred_margin_weight={pred_margin_weight}.\")\n"
   ]
  },
  {
   "cell_type": "code",
   "execution_count": 25,
   "id": "79652cbd",
   "metadata": {},
   "outputs": [],
   "source": [
    "# Uncomment to visualize the first 5 counterfactual samples\n",
    "# Map the results back to the original scale, for comparison\n",
    "actual_Xs = time_series_revert(X_pred_neg_orignal, n_timesteps=n_timesteps, scaler=trained_scaler)\n",
    "actual_cfs = time_series_revert(best_cf_samples, n_timesteps=n_timesteps, scaler=trained_scaler)"
   ]
  },
  {
   "cell_type": "markdown",
   "id": "824621c9",
   "metadata": {},
   "source": [
    "### plot for TwoLeadECG"
   ]
  },
  {
   "cell_type": "code",
   "execution_count": 26,
   "id": "0b32072b",
   "metadata": {},
   "outputs": [],
   "source": [
    "original_sample = actual_Xs[sample_id, :]\n",
    "cf_sample = actual_cfs[sample_id, :]"
   ]
  },
  {
   "cell_type": "code",
   "execution_count": 27,
   "id": "60722cbb",
   "metadata": {},
   "outputs": [
    {
     "data": {
      "image/png": "[encoded data removed]",
      "text/plain": [
       "<Figure size 432x288 with 1 Axes>"
      ]
     },
     "metadata": {
      "needs_background": "light"
     },
     "output_type": "display_data"
    }
   ],
   "source": [
    "plt.figure(figsize=(6, 4))\n",
    "plt.plot(original_sample, color='b', label=\"Original ECG\")\n",
    "plt.plot(cf_sample, color='r', label=\"Counterfactual\")\n",
    "plt.xlabel(\"Timestep\")\n",
    "plt.ylabel(\"Voltage\")\n",
    "plt.legend()\n",
    "plt.grid()\n",
    "plt.show()"
   ]
  },
  {
   "cell_type": "code",
   "execution_count": 28,
   "id": "d376469d",
   "metadata": {},
   "outputs": [
    {
     "name": "stdout",
     "output_type": "stream",
     "text": [
      "0.5006169\n"
     ]
    }
   ],
   "source": [
    "print(z_pred[sample_id])"
   ]
  },
  {
   "cell_type": "code",
   "execution_count": 29,
   "id": "f3e29618",
   "metadata": {},
   "outputs": [
    {
     "data": {
      "text/plain": [
       "IntervalImportance(n_interval=10, random_state=39, scoring='accuracy')"
      ]
     },
     "execution_count": 29,
     "metadata": {},
     "output_type": "execute_result"
    }
   ],
   "source": [
    "from wildboar.explain import *\n",
    "\n",
    "class ModelWrapper:\n",
    "    def __init__(self, model):\n",
    "        self.model = model\n",
    "\n",
    "    def predict(self, X):\n",
    "        p = self.model.predict(X.reshape(X.shape[0], -1, 1))\n",
    "        return np.argmax(p, axis=1) # I think this would work?\n",
    "\n",
    "    def fit(self, X, y):\n",
    "        return self.model.fit(X, y)\n",
    "\n",
    "clf = ModelWrapper(classifier)\n",
    "\n",
    "i = IntervalImportance(scoring=\"accuracy\", n_interval=10, random_state=RANDOM_STATE)\n",
    "i.fit(clf, X_train_processed_padded.reshape(X_train_processed_padded.shape[0], -1), y_train_classes)\n"
   ]
  },
  {
   "cell_type": "code",
   "execution_count": 30,
   "id": "ca1f6070",
   "metadata": {},
   "outputs": [
    {
     "name": "stdout",
     "output_type": "stream",
     "text": [
      "[0.02903226 0.08924731 0.06774194 0.18795699 0.2227957  0.14817204\n",
      " 0.00215054 0.00451613 0.00451613 0.0027957 ]\n"
     ]
    }
   ],
   "source": [
    "print(i.importances_.mean)"
   ]
  },
  {
   "cell_type": "code",
   "execution_count": 31,
   "id": "8f2de732",
   "metadata": {},
   "outputs": [],
   "source": [
    "seg_idx = i.intervals_\n",
    "seg_imp = i.importances_.mean"
   ]
  },
  {
   "cell_type": "code",
   "execution_count": 32,
   "id": "af6d7481",
   "metadata": {},
   "outputs": [
    {
     "name": "stdout",
     "output_type": "stream",
     "text": [
      "0.13344086021505375\n",
      "(array([3, 4, 5]),)\n",
      "(84,)\n"
     ]
    }
   ],
   "source": [
    "# calculate the threshold of masking, 75 percentile\n",
    "masking_threshold = np.percentile(seg_imp, 75)\n",
    "# masking_threshold = np.percentile(i.importances_.mean, 25)\n",
    "print(masking_threshold)\n",
    "masking_idx = np.where(seg_imp >= masking_threshold)\n",
    "print(masking_idx)\n",
    "weighted_steps = np.ones(X_test_processed_padded.shape[1])\n",
    "print(weighted_steps.shape)\n",
    "\n",
    "for start_idx in masking_idx[0]:\n",
    "    weighted_steps[seg_idx[start_idx][0] : seg_idx[start_idx][1]] = 0\n"
   ]
  },
  {
   "cell_type": "code",
   "execution_count": 33,
   "id": "5214cafb",
   "metadata": {},
   "outputs": [
    {
     "data": {
      "text/plain": [
       "0.13344086021505375"
      ]
     },
     "execution_count": 33,
     "metadata": {},
     "output_type": "execute_result"
    }
   ],
   "source": [
    "masking_threshold"
   ]
  },
  {
   "cell_type": "code",
   "execution_count": 34,
   "id": "b63397e5",
   "metadata": {},
   "outputs": [
    {
     "name": "stdout",
     "output_type": "stream",
     "text": [
      "0, 9: 0.029032258064516127\n",
      "9, 18: 0.08924731182795695\n",
      "18, 27: 0.06774193548387095\n",
      "27, 36: 0.18795698924731183\n",
      "36, 44: 0.2227956989247312\n",
      "44, 52: 0.14817204301075268\n",
      "52, 60: 0.002150537634408578\n",
      "60, 68: 0.004516129032258065\n",
      "68, 76: 0.004516129032258065\n"
     ]
    },
    {
     "data": {
      "image/png": "[encoded data removed]",
      "text/plain": [
       "<Figure size 432x288 with 1 Axes>"
      ]
     },
     "metadata": {
      "needs_background": "light"
     },
     "output_type": "display_data"
    }
   ],
   "source": [
    "import math\n",
    "\n",
    "plt.figure(figsize=(6, 4))\n",
    "plt.plot(original_sample, color='b', label=\"Original ECG\")\n",
    "plt.plot(cf_sample, color='r', label=\"Counterfactual\")\n",
    "# plt.plot(np.mean(X_test[y_test_classes == 1], axis=0), color='green', label='Mean of other class')\n",
    "# plt.legend(loc='lower left')\n",
    "plt.xlabel(\"Timestep\")\n",
    "plt.ylabel(\"Voltage\")\n",
    "plt.legend()\n",
    "\n",
    "for i in range(len(seg_idx)-1):\n",
    "    weight = seg_imp[i]\n",
    "    start = seg_idx[i][0]\n",
    "    end = seg_idx[i+1][0] \n",
    "    print(f'{start}, {end}: {weight}')\n",
    "    if weight <= masking_threshold: \n",
    "        continue\n",
    "    color = 'lightcoral' # if weight < 0 else 'green' \n",
    "    plt.axvspan(start, end, color=color, alpha=abs(weight)*0.5)\n",
    "plt.xlabel(\"Timestep\")\n",
    "plt.ylabel(\"Voltage\")\n",
    "# plt.grid()\n",
    "plt.show()\n",
    "    "
   ]
  },
  {
   "cell_type": "markdown",
   "id": "7276f7af",
   "metadata": {},
   "source": [
    "## NoAE search"
   ]
  },
  {
   "cell_type": "code",
   "execution_count": 35,
   "id": "a3b3609b",
   "metadata": {},
   "outputs": [
    {
     "name": "stdout",
     "output_type": "stream",
     "text": [
      "======================== CF search started, with lr=0.001.\n",
      "0 samples been transformed.\n",
      "lr=0.001 finished. Validity: 1.0, proximity (with padding): 0.1292132791665975, margin difference: (0.0005045176, 0.00029529314).\n",
      "The best learning rate found is 0.001.\n",
      "Done for CF search [No autoencoder], pred_margin_weight=0.5.\n"
     ]
    }
   ],
   "source": [
    "###############################################\n",
    "# ## 2.3 CF search with no autoencoder\n",
    "###############################################\n",
    "for pred_margin_weight in PRED_MARGIN_W_LIST:\n",
    "    logger.info(f\"The current prediction margin weight is {pred_margin_weight}.\")\n",
    "\n",
    "    # Get these instances of negative predictions, which is class abnormal (0); (normal is class 1)\n",
    "    X_pred_neg = X_test_processed_padded[y_pred_classes == neg_label][:10]\n",
    "\n",
    "    lr_list3 = [0.001]\n",
    "    best_lr3, best_cf_model3, best_cf_samples3, _ = find_best_lr(\n",
    "        classifier,\n",
    "        X_pred_neg,\n",
    "        autoencoder=None,\n",
    "        lr_list=lr_list3,\n",
    "        pred_margin_weight=pred_margin_weight,\n",
    "        step_weights=step_weights,\n",
    "        random_state=RANDOM_STATE,\n",
    "    )\n",
    "    print(f\"The best learning rate found is {best_lr3}.\")\n",
    "\n",
    "    # ### Evaluation metrics\n",
    "    # predicted probabilities of CFs\n",
    "    z_pred3 = classifier.predict(best_cf_samples3)[:, 1]\n",
    "    if padding_size != 0:\n",
    "        # remove extra paddings after counterfactual generation\n",
    "        best_cf_samples3 = best_cf_samples3[:, :-padding_size, :]\n",
    "        # use the unpadded X for evaluation\n",
    "        X_pred_neg_orignal = X_test_processed[y_pred_classes == neg_label][:10]\n",
    "    else:\n",
    "        X_pred_neg_orignal = X_pred_neg\n",
    "\n",
    "    evaluate_res3 = evaluate(\n",
    "        X_pred_neg_orignal, best_cf_samples3, z_pred3, n_timesteps\n",
    "    )\n",
    "\n",
    "    result_writer.write_result(\n",
    "        \"No autoencoder\",\n",
    "        acc,\n",
    "        0,\n",
    "        best_lr3,\n",
    "        evaluate_res3,\n",
    "        pred_margin_weight=pred_margin_weight,\n",
    "        step_weight_type=w_type.lower(),\n",
    "    )\n",
    "    print(f\"Done for CF search [No autoencoder], pred_margin_weight={pred_margin_weight}.\")"
   ]
  },
  {
   "cell_type": "code",
   "execution_count": 36,
   "id": "761e7c5d",
   "metadata": {},
   "outputs": [],
   "source": [
    "# Uncomment to visualize the first 5 counterfactual samples\n",
    "# Map the results back to the original scale, for comparison\n",
    "actual_Xs = time_series_revert(X_pred_neg_orignal, n_timesteps=n_timesteps, scaler=trained_scaler)\n",
    "actual_cfs3 = time_series_revert(best_cf_samples3, n_timesteps=n_timesteps, scaler=trained_scaler)"
   ]
  },
  {
   "cell_type": "code",
   "execution_count": 37,
   "id": "9e17b16d",
   "metadata": {},
   "outputs": [
    {
     "name": "stdout",
     "output_type": "stream",
     "text": [
      "0, 9: 0.029032258064516127\n",
      "9, 18: 0.08924731182795695\n",
      "18, 27: 0.06774193548387095\n",
      "27, 36: 0.18795698924731183\n",
      "36, 44: 0.2227956989247312\n",
      "44, 52: 0.14817204301075268\n",
      "52, 60: 0.002150537634408578\n",
      "60, 68: 0.004516129032258065\n",
      "68, 76: 0.004516129032258065\n"
     ]
    },
    {
     "data": {
      "image/png": "[encoded data removed]",
      "text/plain": [
       "<Figure size 432x288 with 1 Axes>"
      ]
     },
     "metadata": {
      "needs_background": "light"
     },
     "output_type": "display_data"
    }
   ],
   "source": [
    "original_sample = actual_Xs[sample_id, :]\n",
    "cf_sample = actual_cfs3[sample_id, :]\n",
    "\n",
    "plt.figure(figsize=(6, 4))\n",
    "plt.plot(original_sample, color='b', label=\"Original ECG\")\n",
    "plt.plot(cf_sample, color='r', label=\"Counterfactual\")\n",
    "# plt.plot(np.mean(X_test[y_test_classes == 1], axis=0), color='green', label='Mean of other class')\n",
    "# plt.legend(loc='lower left')\n",
    "plt.xlabel(\"Timestep\")\n",
    "plt.ylabel(\"Voltage\")\n",
    "plt.legend()\n",
    "\n",
    "for i in range(len(seg_idx)-1):\n",
    "    weight = seg_imp[i]\n",
    "    start = seg_idx[i][0]\n",
    "    end = seg_idx[i+1][0] \n",
    "    print(f'{start}, {end}: {weight}')\n",
    "    if weight <= masking_threshold: \n",
    "        continue\n",
    "    color = 'lightcoral' # if weight < 0 else 'green' \n",
    "    plt.axvspan(start, end, color=color, alpha=abs(weight)*0.5)\n",
    "plt.xlabel(\"Timestep\")\n",
    "plt.ylabel(\"Voltage\")\n",
    "# plt.grid()\n",
    "plt.show()\n",
    "    "
   ]
  },
  {
   "cell_type": "code",
   "execution_count": 38,
   "id": "f22f6d81",
   "metadata": {},
   "outputs": [
    {
     "data": {
      "image/png": "[encoded data removed]",
      "text/plain": [
       "<Figure size 432x288 with 1 Axes>"
      ]
     },
     "metadata": {
      "needs_background": "light"
     },
     "output_type": "display_data"
    }
   ],
   "source": [
    "original_sample = actual_Xs[sample_id, :]\n",
    "cf_sample = actual_cfs3[sample_id, :]\n",
    "\n",
    "plt.figure(figsize=(6, 4))\n",
    "plt.plot(original_sample, color='b', label=\"Original ECG\")\n",
    "plt.plot(cf_sample, color='r', label=\"Counterfactual\")\n",
    "plt.xlabel(\"Timestep\")\n",
    "plt.ylabel(\"Voltage\")\n",
    "plt.legend()\n",
    "# plt.grid()\n",
    "plt.show()"
   ]
  },
  {
   "cell_type": "code",
   "execution_count": 39,
   "id": "c8ab66d2",
   "metadata": {},
   "outputs": [
    {
     "data": {
      "text/plain": [
       "array([1., 1., 1., 1., 1., 1., 1., 1., 1., 1., 1., 1., 1., 1., 1., 1., 1.,\n",
       "       1., 1., 1., 1., 1., 1., 1., 1., 1., 1., 0., 0., 0., 0., 0., 0., 0.,\n",
       "       0., 0., 0., 0., 0., 0., 0., 0., 0., 0., 0., 0., 0., 0., 0., 0., 0.,\n",
       "       0., 1., 1., 1., 1., 1., 1., 1., 1., 1., 1., 1., 1., 1., 1., 1., 1.,\n",
       "       1., 1., 1., 1., 1., 1., 1., 1., 1., 1., 1., 1., 1., 1., 1., 1.])"
      ]
     },
     "execution_count": 39,
     "metadata": {},
     "output_type": "execute_result"
    }
   ],
   "source": [
    "step_weights.reshape(-1)"
   ]
  },
  {
   "cell_type": "code",
   "execution_count": 40,
   "id": "b4ebda23",
   "metadata": {},
   "outputs": [
    {
     "name": "stdout",
     "output_type": "stream",
     "text": [
      "0.50096285\n"
     ]
    }
   ],
   "source": [
    "print(z_pred3[sample_id])"
   ]
  },
  {
   "cell_type": "markdown",
   "id": "0c131798",
   "metadata": {},
   "source": [
    "## local, pred_margin_weight = 0.5"
   ]
  },
  {
   "cell_type": "code",
   "execution_count": 41,
   "id": "34f9ddb8",
   "metadata": {},
   "outputs": [
    {
     "name": "stdout",
     "output_type": "stream",
     "text": [
      "======================== CF search started, with lr=0.0001.\n",
      "0 samples been transformed.\n",
      "lr=0.0001 finished. Validity: 1.0, proximity (with padding): 0.1466935013066118, margin difference: (0.00065371394, 0.00021151878).\n",
      "The best learning rate found is 0.0001.\n"
     ]
    }
   ],
   "source": [
    "from _guided import get_global_weights\n",
    "PRED_MARGIN_W_LIST = [0.5]\n",
    "w_type = \"local\"\n",
    "\n",
    "if w_type == \"global\":\n",
    "    step_weights = get_global_weights(\n",
    "        X_train_processed_padded,\n",
    "        y_train_classes,\n",
    "        classifier,\n",
    "        random_state=RANDOM_STATE,\n",
    "    )\n",
    "elif w_type == \"uniform\":\n",
    "    step_weights = np.ones((1, n_timesteps_padded, n_features))\n",
    "elif w_type.lower() == \"local\":\n",
    "    step_weights = \"local\"\n",
    "else:\n",
    "    raise NotImplementedError(\n",
    "        \"A.w_type not implemented, please choose 'local', 'global' or 'uniform'.\"\n",
    "    )\n",
    "\n",
    "### Evaluation metrics\n",
    "for pred_margin_weight in PRED_MARGIN_W_LIST:\n",
    "    logger.info(f\"The current prediction margin weight is {pred_margin_weight}.\")\n",
    "\n",
    "    # Get these instances of negative predictions, which is class abnormal (0); (normal is class 1)\n",
    "    X_pred_neg = X_test_processed_padded[y_pred_classes == neg_label][:10]\n",
    "\n",
    "    lr_list = [0.0001]\n",
    "    best_lr, best_cf_model, best_cf_samples, _ = find_best_lr(\n",
    "        classifier,\n",
    "        X_pred_neg,\n",
    "        autoencoder=autoencoder,\n",
    "        lr_list=lr_list,\n",
    "        pred_margin_weight=pred_margin_weight,\n",
    "        step_weights=step_weights,\n",
    "        random_state=RANDOM_STATE,\n",
    "    )\n",
    "    print(f\"The best learning rate found is {best_lr}.\")\n",
    "\n",
    "    # predicted probabilities of CFs\n",
    "    z_pred = classifier.predict(best_cf_samples)[:, 1]\n",
    "    if padding_size != 0:\n",
    "        # remove extra paddings after counterfactual generation in 1dCNN autoencoder\n",
    "        best_cf_samples = best_cf_samples[:, :-padding_size, :]\n",
    "        # use the unpadded X for evaluation\n",
    "        X_pred_neg_orignal = X_test_processed[y_pred_classes == neg_label][:10]\n",
    "    else:\n",
    "        X_pred_neg_orignal = X_pred_neg[:10]\n",
    "\n",
    "    evaluate_res = evaluate(\n",
    "        X_pred_neg_orignal, best_cf_samples, z_pred, n_timesteps\n",
    "    )\n",
    "\n"
   ]
  },
  {
   "cell_type": "code",
   "execution_count": 42,
   "id": "58076e60",
   "metadata": {},
   "outputs": [
    {
     "name": "stdout",
     "output_type": "stream",
     "text": [
      "Done for CF search [1dCNN autoencoder], pred_margin_weight=0.5.\n"
     ]
    }
   ],
   "source": [
    "result_writer.write_result(\n",
    "    \"1dCNN autoencoder\",\n",
    "    acc,\n",
    "    ae_val_loss,\n",
    "    best_lr,\n",
    "    evaluate_res,\n",
    "    pred_margin_weight=pred_margin_weight,\n",
    "    step_weight_type=w_type.lower(),\n",
    ")\n",
    "print(f\"Done for CF search [1dCNN autoencoder], pred_margin_weight={pred_margin_weight}.\")\n"
   ]
  },
  {
   "cell_type": "code",
   "execution_count": 43,
   "id": "3c2d1b88",
   "metadata": {},
   "outputs": [],
   "source": [
    "# Uncomment to visualize the first 5 counterfactual samples\n",
    "# Map the results back to the original scale, for comparison\n",
    "actual_Xs = time_series_revert(X_pred_neg_orignal, n_timesteps=n_timesteps, scaler=trained_scaler)\n",
    "actual_cfs = time_series_revert(best_cf_samples, n_timesteps=n_timesteps, scaler=trained_scaler)"
   ]
  },
  {
   "cell_type": "markdown",
   "id": "7d03d8fb",
   "metadata": {},
   "source": [
    "### plot for TwoLeadECG"
   ]
  },
  {
   "cell_type": "code",
   "execution_count": 45,
   "id": "e4e12ebf",
   "metadata": {},
   "outputs": [],
   "source": [
    "original_sample = actual_Xs[sample_id, :]\n",
    "cf_sample = actual_cfs[sample_id, :]"
   ]
  },
  {
   "cell_type": "code",
   "execution_count": 44,
   "id": "38fac5ab",
   "metadata": {},
   "outputs": [
    {
     "data": {
      "image/png": "[encoded data removed]",
      "text/plain": [
       "<Figure size 432x288 with 1 Axes>"
      ]
     },
     "metadata": {
      "needs_background": "light"
     },
     "output_type": "display_data"
    }
   ],
   "source": [
    "plt.figure(figsize=(6, 4))\n",
    "plt.plot(original_sample, color='b', label=\"Original ECG\")\n",
    "plt.plot(cf_sample, color='r', label=\"Counterfactual\")\n",
    "plt.xlabel(\"Timestep\")\n",
    "plt.ylabel(\"Voltage\")\n",
    "plt.legend()\n",
    "plt.grid()\n",
    "plt.show()"
   ]
  },
  {
   "cell_type": "code",
   "execution_count": 46,
   "id": "cdc2cd06",
   "metadata": {},
   "outputs": [
    {
     "name": "stdout",
     "output_type": "stream",
     "text": [
      "0.5007292\n"
     ]
    }
   ],
   "source": [
    "print(z_pred[sample_id])"
   ]
  },
  {
   "cell_type": "code",
   "execution_count": 47,
   "id": "4625853c",
   "metadata": {},
   "outputs": [
    {
     "name": "stderr",
     "output_type": "stream",
     "text": [
      "/home/dsv/zhwa9764/miniconda3/envs/ds-ext/lib/python3.7/site-packages/numpy/core/fromnumeric.py:3373: RuntimeWarning: Mean of empty slice.\n",
      "  out=out, **kwargs)\n",
      "/home/dsv/zhwa9764/miniconda3/envs/ds-ext/lib/python3.7/site-packages/numpy/core/_methods.py:170: RuntimeWarning: invalid value encountered in double_scalars\n",
      "  ret = ret.dtype.type(ret / rcount)\n",
      "/home/dsv/zhwa9764/miniconda3/envs/ds-ext/lib/python3.7/site-packages/numpy/core/_methods.py:234: RuntimeWarning: Degrees of freedom <= 0 for slice\n",
      "  keepdims=keepdims)\n",
      "/home/dsv/zhwa9764/miniconda3/envs/ds-ext/lib/python3.7/site-packages/numpy/core/_methods.py:195: RuntimeWarning: invalid value encountered in true_divide\n",
      "  arrmean, rcount, out=arrmean, casting='unsafe', subok=False)\n",
      "/home/dsv/zhwa9764/miniconda3/envs/ds-ext/lib/python3.7/site-packages/numpy/core/_methods.py:226: RuntimeWarning: invalid value encountered in double_scalars\n",
      "  ret = ret.dtype.type(ret / rcount)\n"
     ]
    }
   ],
   "source": [
    "from LIMESegment.Utils.explanations import LIMESegment\n",
    "\n",
    "series = X_pred_neg[sample_id]\n",
    "\n",
    "seg_imp, seg_idx = LIMESegment(\n",
    "        series,\n",
    "        classifier,\n",
    "        model_type=1,\n",
    "        cp=10,\n",
    "        window_size=10,\n",
    "        random_state=RANDOM_STATE,\n",
    "    )"
   ]
  },
  {
   "cell_type": "code",
   "execution_count": 48,
   "id": "d861a320",
   "metadata": {},
   "outputs": [],
   "source": [
    "# seg_imp, seg_idx = explanations\n",
    "total_len = len(series)\n",
    "seg_idx[-1] = total_len - padding_size\n",
    "# seg_idx[-1] = total_len"
   ]
  },
  {
   "cell_type": "code",
   "execution_count": 49,
   "id": "f2d6aeee",
   "metadata": {},
   "outputs": [
    {
     "data": {
      "text/plain": [
       "-0.02878558853977657"
      ]
     },
     "execution_count": 49,
     "metadata": {},
     "output_type": "execute_result"
    }
   ],
   "source": [
    "# calculate the threshold of masking, 25 percentile\n",
    "masking_threshold = np.percentile(seg_imp, 25)\n",
    "masking_idx = np.where(seg_imp <= masking_threshold)\n",
    "\n",
    "masking_threshold"
   ]
  },
  {
   "cell_type": "code",
   "execution_count": 50,
   "id": "f62df93b",
   "metadata": {},
   "outputs": [
    {
     "name": "stdout",
     "output_type": "stream",
     "text": [
      "0, 10: -0.02750344001789702\n",
      "10, 22: 0.028184309396858648\n",
      "22, 28: -0.10355772357730718\n",
      "28, 33: 0.07434316606291184\n",
      "33, 41: 0.03269762568792606\n",
      "41, 47: -0.046222251401433094\n",
      "47, 52: -0.03006773706165612\n",
      "52, 59: -0.0077420806246704926\n",
      "59, 66: 0.08200920108668848\n",
      "66, 71: 0.10212419847464338\n",
      "71, 82: 0.007576660923854326\n"
     ]
    },
    {
     "data": {
      "image/png": "[encoded data removed]",
      "text/plain": [
       "<Figure size 432x288 with 1 Axes>"
      ]
     },
     "metadata": {
      "needs_background": "light"
     },
     "output_type": "display_data"
    }
   ],
   "source": [
    "import math\n",
    "\n",
    "plt.figure(figsize=(6, 4))\n",
    "plt.plot(original_sample, color='b', label=\"Original ECG\")\n",
    "plt.plot(cf_sample, color='r', label=\"Counterfactual\")\n",
    "# plt.plot(np.mean(X_test[y_test_classes == 1], axis=0), color='green', label='Mean of other class')\n",
    "# plt.legend(loc='lower left')\n",
    "plt.xlabel(\"Timestep\")\n",
    "plt.ylabel(\"Voltage\")\n",
    "plt.legend(loc='upper left')\n",
    "\n",
    "for i in range(len(seg_idx)-1):\n",
    "    weight = seg_imp[i]\n",
    "    start = seg_idx[i]\n",
    "    end = seg_idx[i+1] \n",
    "    print(f'{start}, {end}: {weight}')\n",
    "    if weight >= masking_threshold: \n",
    "        continue\n",
    "    color = 'lightcoral' #if weight < 0 else 'green' \n",
    "    plt.axvspan(start, end, color=color, alpha=0.11)#abs(weight))\n",
    "plt.xlabel(\"Timestep\")\n",
    "plt.ylabel(\"Voltage\")\n",
    "# plt.grid()\n",
    "plt.show()"
   ]
  },
  {
   "cell_type": "code",
   "execution_count": 51,
   "id": "d9a074fc",
   "metadata": {},
   "outputs": [],
   "source": [
    "from LIMESegment.Utils.explanations import LIMESegment\n",
    "\n",
    "def get_local_weights(input_sample, classifier_model, random_state=None):\n",
    "    n_timesteps, n_dims = input_sample.shape  # n_dims=1\n",
    "    seg_imp, seg_idx = LIMESegment(\n",
    "        input_sample,\n",
    "        classifier_model,\n",
    "        model_type=1,\n",
    "        cp=10,\n",
    "        window_size=10,\n",
    "        random_state=random_state,\n",
    "    )\n",
    "\n",
    "    # calculate the threshold of masking, 25 percentile\n",
    "    masking_threshold = np.percentile(seg_imp, 25)\n",
    "    masking_idx = np.where(seg_imp <= masking_threshold)\n",
    "\n",
    "    weighted_steps = np.ones(n_timesteps)\n",
    "    for start_idx in masking_idx[0]:\n",
    "        weighted_steps[seg_idx[start_idx] : seg_idx[start_idx + 1]] = 0\n",
    "\n",
    "    # need to reshape for multiplication in `tf.math.multiply()`\n",
    "    weighted_steps = weighted_steps.reshape(1, n_timesteps, n_dims)\n",
    "    return weighted_steps"
   ]
  },
  {
   "cell_type": "code",
   "execution_count": 52,
   "id": "3c217473",
   "metadata": {},
   "outputs": [
    {
     "name": "stderr",
     "output_type": "stream",
     "text": [
      "/home/dsv/zhwa9764/miniconda3/envs/ds-ext/lib/python3.7/site-packages/numpy/core/fromnumeric.py:3373: RuntimeWarning: Mean of empty slice.\n",
      "  out=out, **kwargs)\n",
      "/home/dsv/zhwa9764/miniconda3/envs/ds-ext/lib/python3.7/site-packages/numpy/core/_methods.py:170: RuntimeWarning: invalid value encountered in double_scalars\n",
      "  ret = ret.dtype.type(ret / rcount)\n",
      "/home/dsv/zhwa9764/miniconda3/envs/ds-ext/lib/python3.7/site-packages/numpy/core/_methods.py:234: RuntimeWarning: Degrees of freedom <= 0 for slice\n",
      "  keepdims=keepdims)\n",
      "/home/dsv/zhwa9764/miniconda3/envs/ds-ext/lib/python3.7/site-packages/numpy/core/_methods.py:195: RuntimeWarning: invalid value encountered in true_divide\n",
      "  arrmean, rcount, out=arrmean, casting='unsafe', subok=False)\n",
      "/home/dsv/zhwa9764/miniconda3/envs/ds-ext/lib/python3.7/site-packages/numpy/core/_methods.py:226: RuntimeWarning: invalid value encountered in double_scalars\n",
      "  ret = ret.dtype.type(ret / rcount)\n"
     ]
    }
   ],
   "source": [
    "series = X_pred_neg[sample_id]\n",
    "\n",
    "step_weights = get_local_weights(\n",
    "    series, classifier, random_state=RANDOM_STATE\n",
    ")"
   ]
  },
  {
   "cell_type": "code",
   "execution_count": 53,
   "id": "20ea0acc",
   "metadata": {},
   "outputs": [
    {
     "data": {
      "text/plain": [
       "array([1., 1., 1., 1., 1., 1., 1., 1., 1., 1., 1., 1., 1., 1., 1., 1., 1.,\n",
       "       1., 1., 1., 1., 1., 0., 0., 0., 0., 0., 0., 1., 1., 1., 1., 1., 1.,\n",
       "       1., 1., 1., 1., 1., 1., 1., 0., 0., 0., 0., 0., 0., 0., 0., 0., 0.,\n",
       "       0., 1., 1., 1., 1., 1., 1., 1., 1., 1., 1., 1., 1., 1., 1., 1., 1.,\n",
       "       1., 1., 1., 1., 1., 1., 1., 1., 1., 1., 1., 1., 1., 1., 1., 1.])"
      ]
     },
     "execution_count": 53,
     "metadata": {},
     "output_type": "execute_result"
    }
   ],
   "source": [
    "step_weights.reshape(-1)"
   ]
  },
  {
   "cell_type": "markdown",
   "id": "7ae653d4",
   "metadata": {},
   "source": [
    "## NoAE search"
   ]
  },
  {
   "cell_type": "code",
   "execution_count": 54,
   "id": "c64b22c0",
   "metadata": {},
   "outputs": [
    {
     "name": "stdout",
     "output_type": "stream",
     "text": [
      "======================== CF search started, with lr=0.001.\n",
      "0 samples been transformed.\n",
      "lr=0.001 finished. Validity: 1.0, proximity (with padding): 0.11192607127212637, margin difference: (0.0005639732, 0.0002509895).\n",
      "The best learning rate found is 0.001.\n",
      "Done for CF search [No autoencoder], pred_margin_weight=0.5.\n"
     ]
    }
   ],
   "source": [
    "###############################################\n",
    "# ## 2.3 CF search with no autoencoder\n",
    "###############################################\n",
    "for pred_margin_weight in PRED_MARGIN_W_LIST:\n",
    "    logger.info(f\"The current prediction margin weight is {pred_margin_weight}.\")\n",
    "\n",
    "    # Get these instances of negative predictions, which is class abnormal (0); (normal is class 1)\n",
    "    X_pred_neg = X_test_processed_padded[y_pred_classes == neg_label][:10]\n",
    "\n",
    "    lr_list3 = [0.001]\n",
    "    best_lr3, best_cf_model3, best_cf_samples3, _ = find_best_lr(\n",
    "        classifier,\n",
    "        X_pred_neg,\n",
    "        autoencoder=None,\n",
    "        lr_list=lr_list3,\n",
    "        pred_margin_weight=pred_margin_weight,\n",
    "        step_weights=step_weights,\n",
    "        random_state=RANDOM_STATE,\n",
    "    )\n",
    "    print(f\"The best learning rate found is {best_lr3}.\")\n",
    "\n",
    "    # ### Evaluation metrics\n",
    "    # predicted probabilities of CFs\n",
    "    z_pred3 = classifier.predict(best_cf_samples3)[:, 1]\n",
    "    if padding_size != 0:\n",
    "        # remove extra paddings after counterfactual generation\n",
    "        best_cf_samples3 = best_cf_samples3[:, :-padding_size, :]\n",
    "        # use the unpadded X for evaluation\n",
    "        X_pred_neg_orignal = X_test_processed[y_pred_classes == neg_label][:10]\n",
    "    else:\n",
    "        X_pred_neg_orignal = X_pred_neg[:10]\n",
    "\n",
    "    evaluate_res3 = evaluate(\n",
    "        X_pred_neg_orignal, best_cf_samples3, z_pred3, n_timesteps\n",
    "    )\n",
    "\n",
    "    result_writer.write_result(\n",
    "        \"No autoencoder\",\n",
    "        acc,\n",
    "        0,\n",
    "        best_lr3,\n",
    "        evaluate_res3,\n",
    "        pred_margin_weight=pred_margin_weight,\n",
    "        step_weight_type=w_type.lower(),\n",
    "    )\n",
    "    print(f\"Done for CF search [No autoencoder], pred_margin_weight={pred_margin_weight}.\")"
   ]
  },
  {
   "cell_type": "code",
   "execution_count": 55,
   "id": "8c7be967",
   "metadata": {},
   "outputs": [],
   "source": [
    "# Uncomment to visualize the first 5 counterfactual samples\n",
    "# Map the results back to the original scale, for comparison\n",
    "actual_Xs = time_series_revert(X_pred_neg_orignal, n_timesteps=n_timesteps, scaler=trained_scaler)\n",
    "actual_cfs3 = time_series_revert(best_cf_samples3, n_timesteps=n_timesteps, scaler=trained_scaler)"
   ]
  },
  {
   "cell_type": "code",
   "execution_count": 56,
   "id": "5ed5b906",
   "metadata": {},
   "outputs": [
    {
     "name": "stdout",
     "output_type": "stream",
     "text": [
      "0, 10: -0.02750344001789702\n",
      "10, 22: 0.028184309396858648\n",
      "22, 28: -0.10355772357730718\n",
      "28, 33: 0.07434316606291184\n",
      "33, 41: 0.03269762568792606\n",
      "41, 47: -0.046222251401433094\n",
      "47, 52: -0.03006773706165612\n",
      "52, 59: -0.0077420806246704926\n",
      "59, 66: 0.08200920108668848\n",
      "66, 71: 0.10212419847464338\n",
      "71, 82: 0.007576660923854326\n"
     ]
    },
    {
     "data": {
      "image/png": "[encoded data removed]",
      "text/plain": [
       "<Figure size 432x288 with 1 Axes>"
      ]
     },
     "metadata": {
      "needs_background": "light"
     },
     "output_type": "display_data"
    }
   ],
   "source": [
    "original_sample = actual_Xs[sample_id, :]\n",
    "cf_sample = actual_cfs3[sample_id, :]\n",
    "\n",
    "plt.figure(figsize=(6, 4))\n",
    "plt.plot(original_sample, color='b', label=\"Original ECG\")\n",
    "plt.plot(cf_sample, color='r', label=\"Counterfactual\")\n",
    "# plt.plot(np.mean(X_test[y_test_classes == 1], axis=0), color='green', label='Mean of other class')\n",
    "# plt.legend(loc='lower left')\n",
    "plt.xlabel(\"Timestep\")\n",
    "plt.ylabel(\"Voltage\")\n",
    "plt.legend(loc='upper left')\n",
    "\n",
    "for i in range(len(seg_idx)-1):\n",
    "    weight = seg_imp[i]\n",
    "    start = seg_idx[i]\n",
    "    end = seg_idx[i+1] \n",
    "    print(f'{start}, {end}: {weight}')\n",
    "    if weight >= masking_threshold: \n",
    "        continue\n",
    "    color = 'lightcoral' #if weight < 0 else 'green' \n",
    "    plt.axvspan(start, end, color=color, alpha=0.11)#abs(weight))\n",
    "plt.xlabel(\"Timestep\")\n",
    "plt.ylabel(\"Voltage\")\n",
    "# plt.grid()\n",
    "plt.show()"
   ]
  },
  {
   "cell_type": "code",
   "execution_count": 57,
   "id": "634c8598",
   "metadata": {},
   "outputs": [
    {
     "data": {
      "image/png": "[encoded data removed]",
      "text/plain": [
       "<Figure size 432x288 with 1 Axes>"
      ]
     },
     "metadata": {
      "needs_background": "light"
     },
     "output_type": "display_data"
    }
   ],
   "source": [
    "original_sample = actual_Xs[sample_id, :]\n",
    "cf_sample = actual_cfs3[sample_id, :]\n",
    "\n",
    "plt.figure(figsize=(6, 4))\n",
    "plt.plot(original_sample, color='b', label=\"Original ECG\")\n",
    "plt.plot(cf_sample, color='r', label=\"Counterfactual\")\n",
    "plt.xlabel(\"Timestep\")\n",
    "plt.ylabel(\"Voltage\")\n",
    "plt.legend()\n",
    "# plt.grid()\n",
    "plt.show()"
   ]
  },
  {
   "cell_type": "code",
   "execution_count": 58,
   "id": "dbfa1633",
   "metadata": {},
   "outputs": [
    {
     "name": "stdout",
     "output_type": "stream",
     "text": [
      "0.5009479\n"
     ]
    }
   ],
   "source": [
    "print(z_pred3[sample_id])"
   ]
  },
  {
   "cell_type": "markdown",
   "id": "85edfa96",
   "metadata": {},
   "source": [
    "## uniform, pred_margin_weight = 0.5"
   ]
  },
  {
   "cell_type": "code",
   "execution_count": 59,
   "id": "9d50bdde",
   "metadata": {},
   "outputs": [
    {
     "name": "stdout",
     "output_type": "stream",
     "text": [
      "======================== CF search started, with lr=0.0001.\n",
      "0 samples been transformed.\n",
      "lr=0.0001 finished. Validity: 1.0, proximity (with padding): 0.14139350280726518, margin difference: (0.00053703785, 0.00028488412).\n",
      "The best learning rate found is 0.0001.\n"
     ]
    }
   ],
   "source": [
    "from _guided import get_global_weights\n",
    "PRED_MARGIN_W_LIST = [0.5]\n",
    "w_type = \"uniform\"\n",
    "\n",
    "if w_type == \"global\":\n",
    "    step_weights = get_global_weights(\n",
    "        X_train_processed_padded,\n",
    "        y_train_classes,\n",
    "        classifier,\n",
    "        random_state=RANDOM_STATE,\n",
    "    )\n",
    "elif w_type == \"uniform\":\n",
    "    step_weights = np.ones((1, n_timesteps_padded, n_features))\n",
    "elif w_type.lower() == \"local\":\n",
    "    step_weights = \"local\"\n",
    "else:\n",
    "    raise NotImplementedError(\n",
    "        \"A.w_type not implemented, please choose 'local', 'global' or 'uniform'.\"\n",
    "    )\n",
    "\n",
    "### Evaluation metrics\n",
    "for pred_margin_weight in PRED_MARGIN_W_LIST:\n",
    "    logger.info(f\"The current prediction margin weight is {pred_margin_weight}.\")\n",
    "\n",
    "    # Get these instances of negative predictions, which is class abnormal (0); (normal is class 1)\n",
    "    X_pred_neg = X_test_processed_padded[y_pred_classes == neg_label][:10]\n",
    "\n",
    "    lr_list = [0.0001]\n",
    "    best_lr, best_cf_model, best_cf_samples, _ = find_best_lr(\n",
    "        classifier,\n",
    "        X_pred_neg,\n",
    "        autoencoder=autoencoder,\n",
    "        lr_list=lr_list,\n",
    "        pred_margin_weight=pred_margin_weight,\n",
    "        step_weights=step_weights,\n",
    "        random_state=RANDOM_STATE,\n",
    "    )\n",
    "    print(f\"The best learning rate found is {best_lr}.\")\n",
    "\n",
    "    # predicted probabilities of CFs\n",
    "    z_pred = classifier.predict(best_cf_samples)[:, 1]\n",
    "    if padding_size != 0:\n",
    "        # remove extra paddings after counterfactual generation in 1dCNN autoencoder\n",
    "        best_cf_samples = best_cf_samples[:, :-padding_size, :]\n",
    "        # use the unpadded X for evaluation\n",
    "        X_pred_neg_orignal = X_test_processed[y_pred_classes == neg_label][:10]\n",
    "    else:\n",
    "        X_pred_neg_orignal = X_pred_neg[:10]\n",
    "\n",
    "    evaluate_res = evaluate(\n",
    "        X_pred_neg_orignal, best_cf_samples, z_pred, n_timesteps\n",
    "    )\n",
    "\n"
   ]
  },
  {
   "cell_type": "code",
   "execution_count": 60,
   "id": "32ec3d99",
   "metadata": {},
   "outputs": [
    {
     "name": "stdout",
     "output_type": "stream",
     "text": [
      "Done for CF search [1dCNN autoencoder], pred_margin_weight=0.5.\n"
     ]
    }
   ],
   "source": [
    "result_writer.write_result(\n",
    "    \"1dCNN autoencoder\",\n",
    "    acc,\n",
    "    ae_val_loss,\n",
    "    best_lr,\n",
    "    evaluate_res,\n",
    "    pred_margin_weight=pred_margin_weight,\n",
    "    step_weight_type=w_type.lower(),\n",
    ")\n",
    "print(f\"Done for CF search [1dCNN autoencoder], pred_margin_weight={pred_margin_weight}.\")\n"
   ]
  },
  {
   "cell_type": "code",
   "execution_count": 61,
   "id": "097aa798",
   "metadata": {},
   "outputs": [],
   "source": [
    "# Uncomment to visualize the first 5 counterfactual samples\n",
    "# Map the results back to the original scale, for comparison\n",
    "actual_Xs = time_series_revert(X_pred_neg_orignal, n_timesteps=n_timesteps, scaler=trained_scaler)\n",
    "actual_cfs = time_series_revert(best_cf_samples, n_timesteps=n_timesteps, scaler=trained_scaler)"
   ]
  },
  {
   "cell_type": "markdown",
   "id": "be879d97",
   "metadata": {},
   "source": [
    "### plot for TwoLeadECG"
   ]
  },
  {
   "cell_type": "code",
   "execution_count": 62,
   "id": "9ef86620",
   "metadata": {},
   "outputs": [],
   "source": [
    "original_sample = actual_Xs[sample_id, :]\n",
    "cf_sample = actual_cfs[sample_id, :]"
   ]
  },
  {
   "cell_type": "code",
   "execution_count": 63,
   "id": "414ebc45",
   "metadata": {},
   "outputs": [
    {
     "data": {
      "image/png": "[encoded data removed]",
      "text/plain": [
       "<Figure size 432x288 with 1 Axes>"
      ]
     },
     "metadata": {
      "needs_background": "light"
     },
     "output_type": "display_data"
    }
   ],
   "source": [
    "plt.figure(figsize=(6, 4))\n",
    "plt.plot(original_sample, color='b', label=\"Original ECG\")\n",
    "plt.plot(cf_sample, color='r', label=\"Counterfactual\")\n",
    "plt.xlabel(\"Timestep\")\n",
    "plt.ylabel(\"Voltage\")\n",
    "plt.legend()\n",
    "# plt.grid()\n",
    "plt.show()"
   ]
  },
  {
   "cell_type": "code",
   "execution_count": 64,
   "id": "9f5b38f7",
   "metadata": {},
   "outputs": [
    {
     "name": "stdout",
     "output_type": "stream",
     "text": [
      "0.50055903\n"
     ]
    }
   ],
   "source": [
    "print(z_pred[sample_id])"
   ]
  },
  {
   "cell_type": "markdown",
   "id": "a9d76c19",
   "metadata": {},
   "source": [
    "## NoAE search"
   ]
  },
  {
   "cell_type": "code",
   "execution_count": 65,
   "id": "1edc9d96",
   "metadata": {},
   "outputs": [
    {
     "name": "stdout",
     "output_type": "stream",
     "text": [
      "======================== CF search started, with lr=0.001.\n",
      "0 samples been transformed.\n",
      "lr=0.001 finished. Validity: 0.6, proximity (with padding): 0.06166443687932992, margin difference: (-0.14990263, 0.22908054).\n",
      "The best learning rate found is 0.001.\n",
      "Done for CF search [No autoencoder], pred_margin_weight=0.5.\n"
     ]
    }
   ],
   "source": [
    "###############################################\n",
    "# ## 2.3 CF search with no autoencoder\n",
    "###############################################\n",
    "for pred_margin_weight in PRED_MARGIN_W_LIST:\n",
    "    logger.info(f\"The current prediction margin weight is {pred_margin_weight}.\")\n",
    "\n",
    "    # Get these instances of negative predictions, which is class abnormal (0); (normal is class 1)\n",
    "    X_pred_neg = X_test_processed_padded[y_pred_classes == neg_label][:10]\n",
    "\n",
    "    lr_list3 = [0.001]\n",
    "    best_lr3, best_cf_model3, best_cf_samples3, _ = find_best_lr(\n",
    "        classifier,\n",
    "        X_pred_neg,\n",
    "        autoencoder=None,\n",
    "        lr_list=lr_list3,\n",
    "        pred_margin_weight=pred_margin_weight,\n",
    "        step_weights=step_weights,\n",
    "        random_state=RANDOM_STATE,\n",
    "    )\n",
    "    print(f\"The best learning rate found is {best_lr3}.\")\n",
    "\n",
    "    # ### Evaluation metrics\n",
    "    # predicted probabilities of CFs\n",
    "    z_pred3 = classifier.predict(best_cf_samples3)[:, 1]\n",
    "    if padding_size != 0:\n",
    "        # remove extra paddings after counterfactual generation\n",
    "        best_cf_samples3 = best_cf_samples3[:, :-padding_size, :]\n",
    "        # use the unpadded X for evaluation\n",
    "        X_pred_neg_orignal = X_test_processed[y_pred_classes == neg_label][:10]\n",
    "    else:\n",
    "        X_pred_neg_orignal = X_pred_neg[:10]\n",
    "\n",
    "    evaluate_res3 = evaluate(\n",
    "        X_pred_neg_orignal, best_cf_samples3, z_pred3, n_timesteps\n",
    "    )\n",
    "\n",
    "    result_writer.write_result(\n",
    "        \"No autoencoder\",\n",
    "        acc,\n",
    "        0,\n",
    "        best_lr3,\n",
    "        evaluate_res3,\n",
    "        pred_margin_weight=pred_margin_weight,\n",
    "        step_weight_type=w_type.lower(),\n",
    "    )\n",
    "    print(f\"Done for CF search [No autoencoder], pred_margin_weight={pred_margin_weight}.\")"
   ]
  },
  {
   "cell_type": "code",
   "execution_count": 66,
   "id": "2ee7c3a0",
   "metadata": {},
   "outputs": [],
   "source": [
    "# Uncomment to visualize the first 5 counterfactual samples\n",
    "# Map the results back to the original scale, for comparison\n",
    "actual_Xs = time_series_revert(X_pred_neg_orignal, n_timesteps=n_timesteps, scaler=trained_scaler)\n",
    "actual_cfs3 = time_series_revert(best_cf_samples3, n_timesteps=n_timesteps, scaler=trained_scaler)"
   ]
  },
  {
   "cell_type": "code",
   "execution_count": 67,
   "id": "3e56ef9a",
   "metadata": {},
   "outputs": [
    {
     "data": {
      "image/png": "[encoded data removed]",
      "text/plain": [
       "<Figure size 432x288 with 1 Axes>"
      ]
     },
     "metadata": {
      "needs_background": "light"
     },
     "output_type": "display_data"
    }
   ],
   "source": [
    "original_sample = actual_Xs[sample_id, :]\n",
    "cf_sample = actual_cfs3[sample_id, :]\n",
    "\n",
    "plt.figure(figsize=(6, 4))\n",
    "plt.plot(original_sample, color='b', label=\"Original ECG\")\n",
    "plt.plot(cf_sample, color='r', label=\"Counterfactual\")\n",
    "plt.xlabel(\"Timestep\")\n",
    "plt.ylabel(\"Voltage\")\n",
    "plt.legend()\n",
    "# plt.grid()\n",
    "plt.show()"
   ]
  },
  {
   "cell_type": "code",
   "execution_count": 68,
   "id": "fdbd6994",
   "metadata": {},
   "outputs": [
    {
     "data": {
      "text/plain": [
       "array([1., 1., 1., 1., 1., 1., 1., 1., 1., 1., 1., 1., 1., 1., 1., 1., 1.,\n",
       "       1., 1., 1., 1., 1., 1., 1., 1., 1., 1., 1., 1., 1., 1., 1., 1., 1.,\n",
       "       1., 1., 1., 1., 1., 1., 1., 1., 1., 1., 1., 1., 1., 1., 1., 1., 1.,\n",
       "       1., 1., 1., 1., 1., 1., 1., 1., 1., 1., 1., 1., 1., 1., 1., 1., 1.,\n",
       "       1., 1., 1., 1., 1., 1., 1., 1., 1., 1., 1., 1., 1., 1., 1., 1.])"
      ]
     },
     "execution_count": 68,
     "metadata": {},
     "output_type": "execute_result"
    }
   ],
   "source": [
    "step_weights.reshape(-1)"
   ]
  },
  {
   "cell_type": "code",
   "execution_count": 69,
   "id": "873b2a93",
   "metadata": {},
   "outputs": [
    {
     "name": "stdout",
     "output_type": "stream",
     "text": [
      "0.5009978\n"
     ]
    }
   ],
   "source": [
    "print(z_pred3[sample_id])"
   ]
  }
 ],
 "metadata": {
  "kernelspec": {
   "display_name": "ds-ext",
   "language": "python",
   "name": "ds-ext"
  },
  "language_info": {
   "codemirror_mode": {
    "name": "ipython",
    "version": 3
   },
   "file_extension": ".py",
   "mimetype": "text/x-python",
   "name": "python",
   "nbconvert_exporter": "python",
   "pygments_lexer": "ipython3",
   "version": "3.7.13"
  }
 },
 "nbformat": 4,
 "nbformat_minor": 5
}
